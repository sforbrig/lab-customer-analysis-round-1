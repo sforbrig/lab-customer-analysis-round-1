{
 "cells": [
  {
   "cell_type": "markdown",
   "metadata": {
    "id": "qy4HeGNsysBL"
   },
   "source": [
    "# From Previous Lesson"
   ]
  },
  {
   "cell_type": "code",
   "execution_count": 1,
   "metadata": {
    "id": "GHgbm1YiysBO"
   },
   "outputs": [],
   "source": [
    "import pandas as pd\n",
    "import numpy as np\n",
    "import math\n",
    "from sklearn import linear_model"
   ]
  },
  {
   "cell_type": "code",
   "execution_count": 2,
   "metadata": {
    "colab": {
     "base_uri": "https://localhost:8080/",
     "height": 204
    },
    "executionInfo": {
     "elapsed": 1490,
     "status": "ok",
     "timestamp": 1616693862014,
     "user": {
      "displayName": "David Henriques",
      "photoUrl": "",
      "userId": "14332050621134291491"
     },
     "user_tz": 0
    },
    "id": "YEx8YHq5ysBP",
    "outputId": "37687241-2543-4ca6-8ec2-a0a5f416ea31"
   },
   "outputs": [
    {
     "data": {
      "text/html": [
       "<div>\n",
       "<style scoped>\n",
       "    .dataframe tbody tr th:only-of-type {\n",
       "        vertical-align: middle;\n",
       "    }\n",
       "\n",
       "    .dataframe tbody tr th {\n",
       "        vertical-align: top;\n",
       "    }\n",
       "\n",
       "    .dataframe thead th {\n",
       "        text-align: right;\n",
       "    }\n",
       "</style>\n",
       "<table border=\"1\" class=\"dataframe\">\n",
       "  <thead>\n",
       "    <tr style=\"text-align: right;\">\n",
       "      <th></th>\n",
       "      <th>AVGGIFT</th>\n",
       "      <th>HV1_log</th>\n",
       "      <th>IC1_transformed</th>\n",
       "      <th>IC5_transformed</th>\n",
       "      <th>gender</th>\n",
       "      <th>TARGET_D</th>\n",
       "    </tr>\n",
       "  </thead>\n",
       "  <tbody>\n",
       "    <tr>\n",
       "      <th>0</th>\n",
       "      <td>15.500000</td>\n",
       "      <td>9.510467</td>\n",
       "      <td>17.343389</td>\n",
       "      <td>4.181353</td>\n",
       "      <td>Male</td>\n",
       "      <td>21.0</td>\n",
       "    </tr>\n",
       "    <tr>\n",
       "      <th>1</th>\n",
       "      <td>3.080000</td>\n",
       "      <td>6.458590</td>\n",
       "      <td>16.230984</td>\n",
       "      <td>4.150313</td>\n",
       "      <td>Male</td>\n",
       "      <td>3.0</td>\n",
       "    </tr>\n",
       "    <tr>\n",
       "      <th>2</th>\n",
       "      <td>7.500000</td>\n",
       "      <td>8.780623</td>\n",
       "      <td>18.047227</td>\n",
       "      <td>4.205057</td>\n",
       "      <td>Female</td>\n",
       "      <td>20.0</td>\n",
       "    </tr>\n",
       "    <tr>\n",
       "      <th>3</th>\n",
       "      <td>6.700000</td>\n",
       "      <td>6.200492</td>\n",
       "      <td>11.737110</td>\n",
       "      <td>4.055333</td>\n",
       "      <td>Male</td>\n",
       "      <td>5.0</td>\n",
       "    </tr>\n",
       "    <tr>\n",
       "      <th>4</th>\n",
       "      <td>8.785714</td>\n",
       "      <td>7.477123</td>\n",
       "      <td>12.494862</td>\n",
       "      <td>4.088969</td>\n",
       "      <td>Female</td>\n",
       "      <td>10.0</td>\n",
       "    </tr>\n",
       "  </tbody>\n",
       "</table>\n",
       "</div>"
      ],
      "text/plain": [
       "     AVGGIFT   HV1_log  IC1_transformed  IC5_transformed  gender  TARGET_D\n",
       "0  15.500000  9.510467        17.343389         4.181353    Male      21.0\n",
       "1   3.080000  6.458590        16.230984         4.150313    Male       3.0\n",
       "2   7.500000  8.780623        18.047227         4.205057  Female      20.0\n",
       "3   6.700000  6.200492        11.737110         4.055333    Male       5.0\n",
       "4   8.785714  7.477123        12.494862         4.088969  Female      10.0"
      ]
     },
     "execution_count": 2,
     "metadata": {},
     "output_type": "execute_result"
    }
   ],
   "source": [
    "#this data has been treated with some log transformations like we have seen yesterday\n",
    "data = pd.read_csv('regression_data_treated.csv')\n",
    "data.head()"
   ]
  },
  {
   "cell_type": "code",
   "execution_count": 3,
   "metadata": {
    "id": "HA40VyvZysBR"
   },
   "outputs": [],
   "source": [
    "#separate the features from the labels\n",
    "y = data['TARGET_D']\n",
    "X = data.drop(['TARGET_D'], axis=1)"
   ]
  },
  {
   "cell_type": "code",
   "execution_count": 4,
   "metadata": {
    "id": "-m9yUYwDESXA",
    "outputId": "091797c6-dfac-4573-ddce-4a935758cce5"
   },
   "outputs": [
    {
     "data": {
      "text/html": [
       "<div>\n",
       "<style scoped>\n",
       "    .dataframe tbody tr th:only-of-type {\n",
       "        vertical-align: middle;\n",
       "    }\n",
       "\n",
       "    .dataframe tbody tr th {\n",
       "        vertical-align: top;\n",
       "    }\n",
       "\n",
       "    .dataframe thead th {\n",
       "        text-align: right;\n",
       "    }\n",
       "</style>\n",
       "<table border=\"1\" class=\"dataframe\">\n",
       "  <thead>\n",
       "    <tr style=\"text-align: right;\">\n",
       "      <th></th>\n",
       "      <th>AVGGIFT</th>\n",
       "      <th>HV1_log</th>\n",
       "      <th>IC1_transformed</th>\n",
       "      <th>IC5_transformed</th>\n",
       "      <th>gender</th>\n",
       "    </tr>\n",
       "  </thead>\n",
       "  <tbody>\n",
       "    <tr>\n",
       "      <th>0</th>\n",
       "      <td>15.500000</td>\n",
       "      <td>9.510467</td>\n",
       "      <td>17.343389</td>\n",
       "      <td>4.181353</td>\n",
       "      <td>Male</td>\n",
       "    </tr>\n",
       "    <tr>\n",
       "      <th>1</th>\n",
       "      <td>3.080000</td>\n",
       "      <td>6.458590</td>\n",
       "      <td>16.230984</td>\n",
       "      <td>4.150313</td>\n",
       "      <td>Male</td>\n",
       "    </tr>\n",
       "    <tr>\n",
       "      <th>2</th>\n",
       "      <td>7.500000</td>\n",
       "      <td>8.780623</td>\n",
       "      <td>18.047227</td>\n",
       "      <td>4.205057</td>\n",
       "      <td>Female</td>\n",
       "    </tr>\n",
       "    <tr>\n",
       "      <th>3</th>\n",
       "      <td>6.700000</td>\n",
       "      <td>6.200492</td>\n",
       "      <td>11.737110</td>\n",
       "      <td>4.055333</td>\n",
       "      <td>Male</td>\n",
       "    </tr>\n",
       "    <tr>\n",
       "      <th>4</th>\n",
       "      <td>8.785714</td>\n",
       "      <td>7.477123</td>\n",
       "      <td>12.494862</td>\n",
       "      <td>4.088969</td>\n",
       "      <td>Female</td>\n",
       "    </tr>\n",
       "  </tbody>\n",
       "</table>\n",
       "</div>"
      ],
      "text/plain": [
       "     AVGGIFT   HV1_log  IC1_transformed  IC5_transformed  gender\n",
       "0  15.500000  9.510467        17.343389         4.181353    Male\n",
       "1   3.080000  6.458590        16.230984         4.150313    Male\n",
       "2   7.500000  8.780623        18.047227         4.205057  Female\n",
       "3   6.700000  6.200492        11.737110         4.055333    Male\n",
       "4   8.785714  7.477123        12.494862         4.088969  Female"
      ]
     },
     "execution_count": 4,
     "metadata": {},
     "output_type": "execute_result"
    }
   ],
   "source": [
    "X.head()"
   ]
  },
  {
   "cell_type": "code",
   "execution_count": 5,
   "metadata": {
    "id": "EfCRYMzfysBR"
   },
   "outputs": [],
   "source": [
    "#categorical features and numerical ones are going to be treated differently\n",
    "X_num = X.select_dtypes(include = np.number)\n",
    "X_cat = X.select_dtypes(include = object)"
   ]
  },
  {
   "cell_type": "code",
   "execution_count": 6,
   "metadata": {
    "id": "v36BeoNmESXB",
    "outputId": "06aef94a-733a-474c-91a5-0848486f7a1c"
   },
   "outputs": [
    {
     "data": {
      "text/plain": [
       "array(['Male', 'Female', 'U'], dtype=object)"
      ]
     },
     "execution_count": 6,
     "metadata": {},
     "output_type": "execute_result"
    }
   ],
   "source": [
    "X_cat['gender'].unique()"
   ]
  },
  {
   "cell_type": "code",
   "execution_count": 7,
   "metadata": {
    "id": "cePogA0MysBR"
   },
   "outputs": [
    {
     "data": {
      "text/html": [
       "<div>\n",
       "<style scoped>\n",
       "    .dataframe tbody tr th:only-of-type {\n",
       "        vertical-align: middle;\n",
       "    }\n",
       "\n",
       "    .dataframe tbody tr th {\n",
       "        vertical-align: top;\n",
       "    }\n",
       "\n",
       "    .dataframe thead th {\n",
       "        text-align: right;\n",
       "    }\n",
       "</style>\n",
       "<table border=\"1\" class=\"dataframe\">\n",
       "  <thead>\n",
       "    <tr style=\"text-align: right;\">\n",
       "      <th></th>\n",
       "      <th>count</th>\n",
       "      <th>mean</th>\n",
       "      <th>std</th>\n",
       "      <th>min</th>\n",
       "      <th>25%</th>\n",
       "      <th>50%</th>\n",
       "      <th>75%</th>\n",
       "      <th>max</th>\n",
       "    </tr>\n",
       "  </thead>\n",
       "  <tbody>\n",
       "    <tr>\n",
       "      <th>AVGGIFT</th>\n",
       "      <td>4670.0</td>\n",
       "      <td>11.705325</td>\n",
       "      <td>10.097916</td>\n",
       "      <td>2.260870</td>\n",
       "      <td>7.125938</td>\n",
       "      <td>10.000000</td>\n",
       "      <td>14.333333</td>\n",
       "      <td>450.000000</td>\n",
       "    </tr>\n",
       "    <tr>\n",
       "      <th>HV1_log</th>\n",
       "      <td>4670.0</td>\n",
       "      <td>8.036391</td>\n",
       "      <td>1.269845</td>\n",
       "      <td>5.177302</td>\n",
       "      <td>7.233936</td>\n",
       "      <td>7.842845</td>\n",
       "      <td>8.605080</td>\n",
       "      <td>24.406461</td>\n",
       "    </tr>\n",
       "    <tr>\n",
       "      <th>IC1_transformed</th>\n",
       "      <td>4670.0</td>\n",
       "      <td>15.675380</td>\n",
       "      <td>2.239342</td>\n",
       "      <td>7.707891</td>\n",
       "      <td>14.071580</td>\n",
       "      <td>15.615699</td>\n",
       "      <td>17.238244</td>\n",
       "      <td>20.892798</td>\n",
       "    </tr>\n",
       "    <tr>\n",
       "      <th>IC5_transformed</th>\n",
       "      <td>4670.0</td>\n",
       "      <td>4.178176</td>\n",
       "      <td>0.052677</td>\n",
       "      <td>3.913190</td>\n",
       "      <td>4.143215</td>\n",
       "      <td>4.177919</td>\n",
       "      <td>4.211933</td>\n",
       "      <td>4.402811</td>\n",
       "    </tr>\n",
       "  </tbody>\n",
       "</table>\n",
       "</div>"
      ],
      "text/plain": [
       "                  count       mean        std       min        25%        50%  \\\n",
       "AVGGIFT          4670.0  11.705325  10.097916  2.260870   7.125938  10.000000   \n",
       "HV1_log          4670.0   8.036391   1.269845  5.177302   7.233936   7.842845   \n",
       "IC1_transformed  4670.0  15.675380   2.239342  7.707891  14.071580  15.615699   \n",
       "IC5_transformed  4670.0   4.178176   0.052677  3.913190   4.143215   4.177919   \n",
       "\n",
       "                       75%         max  \n",
       "AVGGIFT          14.333333  450.000000  \n",
       "HV1_log           8.605080   24.406461  \n",
       "IC1_transformed  17.238244   20.892798  \n",
       "IC5_transformed   4.211933    4.402811  "
      ]
     },
     "execution_count": 7,
     "metadata": {},
     "output_type": "execute_result"
    }
   ],
   "source": [
    "# Normalizing and Standardizing data - only for numerical variables\n",
    "X_num.describe().T"
   ]
  },
  {
   "cell_type": "code",
   "execution_count": 8,
   "metadata": {
    "id": "kjjo1OQ2ESXC",
    "outputId": "b1318782-001f-4ef0-b945-af455e763542"
   },
   "outputs": [
    {
     "data": {
      "text/html": [
       "<div>\n",
       "<style scoped>\n",
       "    .dataframe tbody tr th:only-of-type {\n",
       "        vertical-align: middle;\n",
       "    }\n",
       "\n",
       "    .dataframe tbody tr th {\n",
       "        vertical-align: top;\n",
       "    }\n",
       "\n",
       "    .dataframe thead th {\n",
       "        text-align: right;\n",
       "    }\n",
       "</style>\n",
       "<table border=\"1\" class=\"dataframe\">\n",
       "  <thead>\n",
       "    <tr style=\"text-align: right;\">\n",
       "      <th></th>\n",
       "      <th>AVGGIFT</th>\n",
       "      <th>HV1_log</th>\n",
       "      <th>IC1_transformed</th>\n",
       "      <th>IC5_transformed</th>\n",
       "    </tr>\n",
       "  </thead>\n",
       "  <tbody>\n",
       "    <tr>\n",
       "      <th>0</th>\n",
       "      <td>15.500000</td>\n",
       "      <td>9.510467</td>\n",
       "      <td>17.343389</td>\n",
       "      <td>4.181353</td>\n",
       "    </tr>\n",
       "    <tr>\n",
       "      <th>1</th>\n",
       "      <td>3.080000</td>\n",
       "      <td>6.458590</td>\n",
       "      <td>16.230984</td>\n",
       "      <td>4.150313</td>\n",
       "    </tr>\n",
       "    <tr>\n",
       "      <th>2</th>\n",
       "      <td>7.500000</td>\n",
       "      <td>8.780623</td>\n",
       "      <td>18.047227</td>\n",
       "      <td>4.205057</td>\n",
       "    </tr>\n",
       "    <tr>\n",
       "      <th>3</th>\n",
       "      <td>6.700000</td>\n",
       "      <td>6.200492</td>\n",
       "      <td>11.737110</td>\n",
       "      <td>4.055333</td>\n",
       "    </tr>\n",
       "    <tr>\n",
       "      <th>4</th>\n",
       "      <td>8.785714</td>\n",
       "      <td>7.477123</td>\n",
       "      <td>12.494862</td>\n",
       "      <td>4.088969</td>\n",
       "    </tr>\n",
       "    <tr>\n",
       "      <th>...</th>\n",
       "      <td>...</td>\n",
       "      <td>...</td>\n",
       "      <td>...</td>\n",
       "      <td>...</td>\n",
       "    </tr>\n",
       "    <tr>\n",
       "      <th>4665</th>\n",
       "      <td>15.500000</td>\n",
       "      <td>8.635841</td>\n",
       "      <td>15.280561</td>\n",
       "      <td>4.187901</td>\n",
       "    </tr>\n",
       "    <tr>\n",
       "      <th>4666</th>\n",
       "      <td>11.857143</td>\n",
       "      <td>9.702136</td>\n",
       "      <td>15.029617</td>\n",
       "      <td>4.248632</td>\n",
       "    </tr>\n",
       "    <tr>\n",
       "      <th>4667</th>\n",
       "      <td>11.333333</td>\n",
       "      <td>7.384414</td>\n",
       "      <td>15.742430</td>\n",
       "      <td>4.179506</td>\n",
       "    </tr>\n",
       "    <tr>\n",
       "      <th>4668</th>\n",
       "      <td>13.000000</td>\n",
       "      <td>8.481928</td>\n",
       "      <td>13.326031</td>\n",
       "      <td>4.124159</td>\n",
       "    </tr>\n",
       "    <tr>\n",
       "      <th>4669</th>\n",
       "      <td>17.923077</td>\n",
       "      <td>8.906619</td>\n",
       "      <td>17.417748</td>\n",
       "      <td>4.256304</td>\n",
       "    </tr>\n",
       "  </tbody>\n",
       "</table>\n",
       "<p>4670 rows × 4 columns</p>\n",
       "</div>"
      ],
      "text/plain": [
       "        AVGGIFT   HV1_log  IC1_transformed  IC5_transformed\n",
       "0     15.500000  9.510467        17.343389         4.181353\n",
       "1      3.080000  6.458590        16.230984         4.150313\n",
       "2      7.500000  8.780623        18.047227         4.205057\n",
       "3      6.700000  6.200492        11.737110         4.055333\n",
       "4      8.785714  7.477123        12.494862         4.088969\n",
       "...         ...       ...              ...              ...\n",
       "4665  15.500000  8.635841        15.280561         4.187901\n",
       "4666  11.857143  9.702136        15.029617         4.248632\n",
       "4667  11.333333  7.384414        15.742430         4.179506\n",
       "4668  13.000000  8.481928        13.326031         4.124159\n",
       "4669  17.923077  8.906619        17.417748         4.256304\n",
       "\n",
       "[4670 rows x 4 columns]"
      ]
     },
     "execution_count": 8,
     "metadata": {},
     "output_type": "execute_result"
    }
   ],
   "source": [
    "X_num"
   ]
  },
  {
   "cell_type": "code",
   "execution_count": 9,
   "metadata": {
    "colab": {
     "base_uri": "https://localhost:8080/",
     "height": 221
    },
    "executionInfo": {
     "elapsed": 2281,
     "status": "ok",
     "timestamp": 1616693885952,
     "user": {
      "displayName": "David Henriques",
      "photoUrl": "",
      "userId": "14332050621134291491"
     },
     "user_tz": 0
    },
    "id": "PhAwqUMvysBS",
    "outputId": "c115bd3a-5bb3-465a-b3af-ba9d3b06e281"
   },
   "outputs": [
    {
     "name": "stdout",
     "output_type": "stream",
     "text": [
      "(4670, 4)\n"
     ]
    },
    {
     "data": {
      "text/html": [
       "<div>\n",
       "<style scoped>\n",
       "    .dataframe tbody tr th:only-of-type {\n",
       "        vertical-align: middle;\n",
       "    }\n",
       "\n",
       "    .dataframe tbody tr th {\n",
       "        vertical-align: top;\n",
       "    }\n",
       "\n",
       "    .dataframe thead th {\n",
       "        text-align: right;\n",
       "    }\n",
       "</style>\n",
       "<table border=\"1\" class=\"dataframe\">\n",
       "  <thead>\n",
       "    <tr style=\"text-align: right;\">\n",
       "      <th></th>\n",
       "      <th>AVGGIFT</th>\n",
       "      <th>HV1_log</th>\n",
       "      <th>IC1_transformed</th>\n",
       "      <th>IC5_transformed</th>\n",
       "    </tr>\n",
       "  </thead>\n",
       "  <tbody>\n",
       "    <tr>\n",
       "      <th>0</th>\n",
       "      <td>0.029569</td>\n",
       "      <td>0.225343</td>\n",
       "      <td>0.730798</td>\n",
       "      <td>0.547694</td>\n",
       "    </tr>\n",
       "    <tr>\n",
       "      <th>1</th>\n",
       "      <td>0.001829</td>\n",
       "      <td>0.066633</td>\n",
       "      <td>0.646428</td>\n",
       "      <td>0.484300</td>\n",
       "    </tr>\n",
       "    <tr>\n",
       "      <th>2</th>\n",
       "      <td>0.011701</td>\n",
       "      <td>0.187388</td>\n",
       "      <td>0.784180</td>\n",
       "      <td>0.596107</td>\n",
       "    </tr>\n",
       "    <tr>\n",
       "      <th>3</th>\n",
       "      <td>0.009915</td>\n",
       "      <td>0.053210</td>\n",
       "      <td>0.305593</td>\n",
       "      <td>0.290313</td>\n",
       "    </tr>\n",
       "    <tr>\n",
       "      <th>4</th>\n",
       "      <td>0.014573</td>\n",
       "      <td>0.119601</td>\n",
       "      <td>0.363064</td>\n",
       "      <td>0.359010</td>\n",
       "    </tr>\n",
       "  </tbody>\n",
       "</table>\n",
       "</div>"
      ],
      "text/plain": [
       "    AVGGIFT   HV1_log  IC1_transformed  IC5_transformed\n",
       "0  0.029569  0.225343         0.730798         0.547694\n",
       "1  0.001829  0.066633         0.646428         0.484300\n",
       "2  0.011701  0.187388         0.784180         0.596107\n",
       "3  0.009915  0.053210         0.305593         0.290313\n",
       "4  0.014573  0.119601         0.363064         0.359010"
      ]
     },
     "execution_count": 9,
     "metadata": {},
     "output_type": "execute_result"
    }
   ],
   "source": [
    "from sklearn.preprocessing import MinMaxScaler\n",
    "MinMaxtransformer = MinMaxScaler().fit(X_num)\n",
    "x_normalized = MinMaxtransformer.transform(X_num)\n",
    "print(x_normalized.shape)\n",
    "x_normalized = pd.DataFrame(x_normalized,columns=X_num.columns)\n",
    "x_normalized.head()"
   ]
  },
  {
   "cell_type": "code",
   "execution_count": 10,
   "metadata": {},
   "outputs": [
    {
     "data": {
      "text/html": [
       "<div>\n",
       "<style scoped>\n",
       "    .dataframe tbody tr th:only-of-type {\n",
       "        vertical-align: middle;\n",
       "    }\n",
       "\n",
       "    .dataframe tbody tr th {\n",
       "        vertical-align: top;\n",
       "    }\n",
       "\n",
       "    .dataframe thead th {\n",
       "        text-align: right;\n",
       "    }\n",
       "</style>\n",
       "<table border=\"1\" class=\"dataframe\">\n",
       "  <thead>\n",
       "    <tr style=\"text-align: right;\">\n",
       "      <th></th>\n",
       "      <th>count</th>\n",
       "      <th>mean</th>\n",
       "      <th>std</th>\n",
       "      <th>min</th>\n",
       "      <th>25%</th>\n",
       "      <th>50%</th>\n",
       "      <th>75%</th>\n",
       "      <th>max</th>\n",
       "    </tr>\n",
       "  </thead>\n",
       "  <tbody>\n",
       "    <tr>\n",
       "      <th>AVGGIFT</th>\n",
       "      <td>4670.0</td>\n",
       "      <td>0.021094</td>\n",
       "      <td>0.022553</td>\n",
       "      <td>0.0</td>\n",
       "      <td>0.010866</td>\n",
       "      <td>0.017285</td>\n",
       "      <td>0.026963</td>\n",
       "      <td>1.0</td>\n",
       "    </tr>\n",
       "    <tr>\n",
       "      <th>HV1_log</th>\n",
       "      <td>4670.0</td>\n",
       "      <td>0.148685</td>\n",
       "      <td>0.066037</td>\n",
       "      <td>0.0</td>\n",
       "      <td>0.106954</td>\n",
       "      <td>0.138620</td>\n",
       "      <td>0.178259</td>\n",
       "      <td>1.0</td>\n",
       "    </tr>\n",
       "    <tr>\n",
       "      <th>IC1_transformed</th>\n",
       "      <td>4670.0</td>\n",
       "      <td>0.604289</td>\n",
       "      <td>0.169841</td>\n",
       "      <td>0.0</td>\n",
       "      <td>0.482649</td>\n",
       "      <td>0.599762</td>\n",
       "      <td>0.722823</td>\n",
       "      <td>1.0</td>\n",
       "    </tr>\n",
       "    <tr>\n",
       "      <th>IC5_transformed</th>\n",
       "      <td>4670.0</td>\n",
       "      <td>0.541205</td>\n",
       "      <td>0.107588</td>\n",
       "      <td>0.0</td>\n",
       "      <td>0.469801</td>\n",
       "      <td>0.540680</td>\n",
       "      <td>0.610151</td>\n",
       "      <td>1.0</td>\n",
       "    </tr>\n",
       "  </tbody>\n",
       "</table>\n",
       "</div>"
      ],
      "text/plain": [
       "                  count      mean       std  min       25%       50%  \\\n",
       "AVGGIFT          4670.0  0.021094  0.022553  0.0  0.010866  0.017285   \n",
       "HV1_log          4670.0  0.148685  0.066037  0.0  0.106954  0.138620   \n",
       "IC1_transformed  4670.0  0.604289  0.169841  0.0  0.482649  0.599762   \n",
       "IC5_transformed  4670.0  0.541205  0.107588  0.0  0.469801  0.540680   \n",
       "\n",
       "                      75%  max  \n",
       "AVGGIFT          0.026963  1.0  \n",
       "HV1_log          0.178259  1.0  \n",
       "IC1_transformed  0.722823  1.0  \n",
       "IC5_transformed  0.610151  1.0  "
      ]
     },
     "execution_count": 10,
     "metadata": {},
     "output_type": "execute_result"
    }
   ],
   "source": [
    "x_normalized.describe().T"
   ]
  },
  {
   "cell_type": "code",
   "execution_count": 11,
   "metadata": {
    "colab": {
     "base_uri": "https://localhost:8080/",
     "height": 221
    },
    "executionInfo": {
     "elapsed": 1043,
     "status": "ok",
     "timestamp": 1616693891998,
     "user": {
      "displayName": "David Henriques",
      "photoUrl": "",
      "userId": "14332050621134291491"
     },
     "user_tz": 0
    },
    "id": "9HC65853ysBS",
    "outputId": "033cebf0-efd4-438c-f8f8-cf506f6357be"
   },
   "outputs": [
    {
     "name": "stdout",
     "output_type": "stream",
     "text": [
      "(4670, 4)\n"
     ]
    },
    {
     "data": {
      "text/html": [
       "<div>\n",
       "<style scoped>\n",
       "    .dataframe tbody tr th:only-of-type {\n",
       "        vertical-align: middle;\n",
       "    }\n",
       "\n",
       "    .dataframe tbody tr th {\n",
       "        vertical-align: top;\n",
       "    }\n",
       "\n",
       "    .dataframe thead th {\n",
       "        text-align: right;\n",
       "    }\n",
       "</style>\n",
       "<table border=\"1\" class=\"dataframe\">\n",
       "  <thead>\n",
       "    <tr style=\"text-align: right;\">\n",
       "      <th></th>\n",
       "      <th>AVGGIFT</th>\n",
       "      <th>HV1_log</th>\n",
       "      <th>IC1_transformed</th>\n",
       "      <th>IC5_transformed</th>\n",
       "    </tr>\n",
       "  </thead>\n",
       "  <tbody>\n",
       "    <tr>\n",
       "      <th>0</th>\n",
       "      <td>0.375828</td>\n",
       "      <td>1.160956</td>\n",
       "      <td>0.744945</td>\n",
       "      <td>0.060323</td>\n",
       "    </tr>\n",
       "    <tr>\n",
       "      <th>1</th>\n",
       "      <td>-0.854260</td>\n",
       "      <td>-1.242648</td>\n",
       "      <td>0.248137</td>\n",
       "      <td>-0.528978</td>\n",
       "    </tr>\n",
       "    <tr>\n",
       "      <th>2</th>\n",
       "      <td>-0.416499</td>\n",
       "      <td>0.586144</td>\n",
       "      <td>1.059285</td>\n",
       "      <td>0.510354</td>\n",
       "    </tr>\n",
       "    <tr>\n",
       "      <th>3</th>\n",
       "      <td>-0.495732</td>\n",
       "      <td>-1.445921</td>\n",
       "      <td>-1.758861</td>\n",
       "      <td>-2.332225</td>\n",
       "    </tr>\n",
       "    <tr>\n",
       "      <th>4</th>\n",
       "      <td>-0.289161</td>\n",
       "      <td>-0.440469</td>\n",
       "      <td>-1.420443</td>\n",
       "      <td>-1.693638</td>\n",
       "    </tr>\n",
       "  </tbody>\n",
       "</table>\n",
       "</div>"
      ],
      "text/plain": [
       "    AVGGIFT   HV1_log  IC1_transformed  IC5_transformed\n",
       "0  0.375828  1.160956         0.744945         0.060323\n",
       "1 -0.854260 -1.242648         0.248137        -0.528978\n",
       "2 -0.416499  0.586144         1.059285         0.510354\n",
       "3 -0.495732 -1.445921        -1.758861        -2.332225\n",
       "4 -0.289161 -0.440469        -1.420443        -1.693638"
      ]
     },
     "execution_count": 11,
     "metadata": {},
     "output_type": "execute_result"
    }
   ],
   "source": [
    "from sklearn.preprocessing import StandardScaler\n",
    "Standardtransformer = StandardScaler().fit(X_num)\n",
    "x_standardized = Standardtransformer.transform(X_num)\n",
    "print(x_standardized.shape)\n",
    "x_standardized = pd.DataFrame(x_standardized,columns=X_num.columns)\n",
    "x_standardized.head()"
   ]
  },
  {
   "cell_type": "code",
   "execution_count": 12,
   "metadata": {},
   "outputs": [
    {
     "data": {
      "text/html": [
       "<div>\n",
       "<style scoped>\n",
       "    .dataframe tbody tr th:only-of-type {\n",
       "        vertical-align: middle;\n",
       "    }\n",
       "\n",
       "    .dataframe tbody tr th {\n",
       "        vertical-align: top;\n",
       "    }\n",
       "\n",
       "    .dataframe thead th {\n",
       "        text-align: right;\n",
       "    }\n",
       "</style>\n",
       "<table border=\"1\" class=\"dataframe\">\n",
       "  <thead>\n",
       "    <tr style=\"text-align: right;\">\n",
       "      <th></th>\n",
       "      <th>count</th>\n",
       "      <th>mean</th>\n",
       "      <th>std</th>\n",
       "      <th>min</th>\n",
       "      <th>25%</th>\n",
       "      <th>50%</th>\n",
       "      <th>75%</th>\n",
       "      <th>max</th>\n",
       "    </tr>\n",
       "  </thead>\n",
       "  <tbody>\n",
       "    <tr>\n",
       "      <th>AVGGIFT</th>\n",
       "      <td>4670.0</td>\n",
       "      <td>-3.796630e-17</td>\n",
       "      <td>1.000107</td>\n",
       "      <td>-0.935388</td>\n",
       "      <td>-0.453547</td>\n",
       "      <td>-0.168897</td>\n",
       "      <td>0.260280</td>\n",
       "      <td>43.409118</td>\n",
       "    </tr>\n",
       "    <tr>\n",
       "      <th>HV1_log</th>\n",
       "      <td>4670.0</td>\n",
       "      <td>-9.326349e-16</td>\n",
       "      <td>1.000107</td>\n",
       "      <td>-2.251767</td>\n",
       "      <td>-0.631999</td>\n",
       "      <td>-0.152434</td>\n",
       "      <td>0.447889</td>\n",
       "      <td>12.892773</td>\n",
       "    </tr>\n",
       "    <tr>\n",
       "      <th>IC1_transformed</th>\n",
       "      <td>4670.0</td>\n",
       "      <td>7.244978e-16</td>\n",
       "      <td>1.000107</td>\n",
       "      <td>-3.558340</td>\n",
       "      <td>-0.716269</td>\n",
       "      <td>-0.026654</td>\n",
       "      <td>0.697987</td>\n",
       "      <td>2.330138</td>\n",
       "    </tr>\n",
       "    <tr>\n",
       "      <th>IC5_transformed</th>\n",
       "      <td>4670.0</td>\n",
       "      <td>-1.549035e-14</td>\n",
       "      <td>1.000107</td>\n",
       "      <td>-5.030900</td>\n",
       "      <td>-0.663751</td>\n",
       "      <td>-0.004879</td>\n",
       "      <td>0.640906</td>\n",
       "      <td>4.264836</td>\n",
       "    </tr>\n",
       "  </tbody>\n",
       "</table>\n",
       "</div>"
      ],
      "text/plain": [
       "                  count          mean       std       min       25%       50%  \\\n",
       "AVGGIFT          4670.0 -3.796630e-17  1.000107 -0.935388 -0.453547 -0.168897   \n",
       "HV1_log          4670.0 -9.326349e-16  1.000107 -2.251767 -0.631999 -0.152434   \n",
       "IC1_transformed  4670.0  7.244978e-16  1.000107 -3.558340 -0.716269 -0.026654   \n",
       "IC5_transformed  4670.0 -1.549035e-14  1.000107 -5.030900 -0.663751 -0.004879   \n",
       "\n",
       "                      75%        max  \n",
       "AVGGIFT          0.260280  43.409118  \n",
       "HV1_log          0.447889  12.892773  \n",
       "IC1_transformed  0.697987   2.330138  \n",
       "IC5_transformed  0.640906   4.264836  "
      ]
     },
     "execution_count": 12,
     "metadata": {},
     "output_type": "execute_result"
    }
   ],
   "source": [
    "x_standardized.describe().T"
   ]
  },
  {
   "cell_type": "markdown",
   "metadata": {
    "id": "vWPa24slysBS"
   },
   "source": [
    "# Lesson 1.08"
   ]
  },
  {
   "cell_type": "code",
   "execution_count": 13,
   "metadata": {
    "id": "zWnOjycB-Xn0"
   },
   "outputs": [],
   "source": [
    "# Activity 1\n",
    "# Discussion on categorical variables: how would you currently handle categories? Should you have many or few?"
   ]
  },
  {
   "cell_type": "markdown",
   "metadata": {
    "id": "5IRHbI9XysBT"
   },
   "source": [
    "# Lesson 1 : categorical variables"
   ]
  },
  {
   "cell_type": "code",
   "execution_count": 14,
   "metadata": {
    "id": "imFaZN7pysBT"
   },
   "outputs": [
    {
     "name": "stderr",
     "output_type": "stream",
     "text": [
      "C:\\Users\\User\\AppData\\Local\\Temp/ipykernel_152/3073296627.py:1: DeprecationWarning: `np.object` is a deprecated alias for the builtin `object`. To silence this warning, use `object` by itself. Doing this will not modify any behavior and is safe. \n",
      "Deprecated in NumPy 1.20; for more details and guidance: https://numpy.org/devdocs/release/1.20.0-notes.html#deprecations\n",
      "  X_cat = data.select_dtypes(include = np.object)\n"
     ]
    }
   ],
   "source": [
    "X_cat = data.select_dtypes(include = np.object)"
   ]
  },
  {
   "cell_type": "code",
   "execution_count": 15,
   "metadata": {
    "colab": {
     "base_uri": "https://localhost:8080/",
     "height": 204
    },
    "executionInfo": {
     "elapsed": 891,
     "status": "ok",
     "timestamp": 1616693903791,
     "user": {
      "displayName": "David Henriques",
      "photoUrl": "",
      "userId": "14332050621134291491"
     },
     "user_tz": 0
    },
    "id": "8Fxsh34860fh",
    "outputId": "16e4c1cd-c5b3-4fa8-ea85-618bf003d793"
   },
   "outputs": [
    {
     "data": {
      "text/html": [
       "<div>\n",
       "<style scoped>\n",
       "    .dataframe tbody tr th:only-of-type {\n",
       "        vertical-align: middle;\n",
       "    }\n",
       "\n",
       "    .dataframe tbody tr th {\n",
       "        vertical-align: top;\n",
       "    }\n",
       "\n",
       "    .dataframe thead th {\n",
       "        text-align: right;\n",
       "    }\n",
       "</style>\n",
       "<table border=\"1\" class=\"dataframe\">\n",
       "  <thead>\n",
       "    <tr style=\"text-align: right;\">\n",
       "      <th></th>\n",
       "      <th>gender</th>\n",
       "    </tr>\n",
       "  </thead>\n",
       "  <tbody>\n",
       "    <tr>\n",
       "      <th>0</th>\n",
       "      <td>Male</td>\n",
       "    </tr>\n",
       "    <tr>\n",
       "      <th>1</th>\n",
       "      <td>Male</td>\n",
       "    </tr>\n",
       "    <tr>\n",
       "      <th>2</th>\n",
       "      <td>Female</td>\n",
       "    </tr>\n",
       "    <tr>\n",
       "      <th>3</th>\n",
       "      <td>Male</td>\n",
       "    </tr>\n",
       "    <tr>\n",
       "      <th>4</th>\n",
       "      <td>Female</td>\n",
       "    </tr>\n",
       "  </tbody>\n",
       "</table>\n",
       "</div>"
      ],
      "text/plain": [
       "   gender\n",
       "0    Male\n",
       "1    Male\n",
       "2  Female\n",
       "3    Male\n",
       "4  Female"
      ]
     },
     "execution_count": 15,
     "metadata": {},
     "output_type": "execute_result"
    }
   ],
   "source": [
    "# in this case there is only one categorical variable\n",
    "X_cat.head()"
   ]
  },
  {
   "cell_type": "code",
   "execution_count": 16,
   "metadata": {
    "id": "G0mD9TaYESXH",
    "outputId": "b1bfab96-bcd9-4f56-b35a-92bef26548c1"
   },
   "outputs": [
    {
     "data": {
      "text/plain": [
       "Female    2664\n",
       "Male      1895\n",
       "U          111\n",
       "Name: gender, dtype: int64"
      ]
     },
     "execution_count": 16,
     "metadata": {},
     "output_type": "execute_result"
    }
   ],
   "source": [
    "X_cat['gender'].value_counts()"
   ]
  },
  {
   "cell_type": "code",
   "execution_count": 17,
   "metadata": {
    "colab": {
     "base_uri": "https://localhost:8080/",
     "height": 340
    },
    "executionInfo": {
     "elapsed": 957,
     "status": "ok",
     "timestamp": 1616693909909,
     "user": {
      "displayName": "David Henriques",
      "photoUrl": "",
      "userId": "14332050621134291491"
     },
     "user_tz": 0
    },
    "id": "r7kpY4moysBU",
    "outputId": "0eabec1e-8fc6-44a7-9bad-1ef7f8b3f191"
   },
   "outputs": [
    {
     "name": "stdout",
     "output_type": "stream",
     "text": [
      "[array(['Female', 'Male', 'U'], dtype=object)]\n",
      "[[0. 1. 0.]\n",
      " [0. 1. 0.]\n",
      " [1. 0. 0.]\n",
      " ...\n",
      " [1. 0. 0.]\n",
      " [0. 1. 0.]\n",
      " [0. 1. 0.]]\n"
     ]
    },
    {
     "data": {
      "text/html": [
       "<div>\n",
       "<style scoped>\n",
       "    .dataframe tbody tr th:only-of-type {\n",
       "        vertical-align: middle;\n",
       "    }\n",
       "\n",
       "    .dataframe tbody tr th {\n",
       "        vertical-align: top;\n",
       "    }\n",
       "\n",
       "    .dataframe thead tr th {\n",
       "        text-align: left;\n",
       "    }\n",
       "</style>\n",
       "<table border=\"1\" class=\"dataframe\">\n",
       "  <thead>\n",
       "    <tr>\n",
       "      <th></th>\n",
       "      <th>Female</th>\n",
       "      <th>Male</th>\n",
       "      <th>U</th>\n",
       "    </tr>\n",
       "  </thead>\n",
       "  <tbody>\n",
       "    <tr>\n",
       "      <th>0</th>\n",
       "      <td>0.0</td>\n",
       "      <td>1.0</td>\n",
       "      <td>0.0</td>\n",
       "    </tr>\n",
       "    <tr>\n",
       "      <th>1</th>\n",
       "      <td>0.0</td>\n",
       "      <td>1.0</td>\n",
       "      <td>0.0</td>\n",
       "    </tr>\n",
       "    <tr>\n",
       "      <th>2</th>\n",
       "      <td>1.0</td>\n",
       "      <td>0.0</td>\n",
       "      <td>0.0</td>\n",
       "    </tr>\n",
       "    <tr>\n",
       "      <th>3</th>\n",
       "      <td>0.0</td>\n",
       "      <td>1.0</td>\n",
       "      <td>0.0</td>\n",
       "    </tr>\n",
       "    <tr>\n",
       "      <th>4</th>\n",
       "      <td>1.0</td>\n",
       "      <td>0.0</td>\n",
       "      <td>0.0</td>\n",
       "    </tr>\n",
       "    <tr>\n",
       "      <th>5</th>\n",
       "      <td>0.0</td>\n",
       "      <td>1.0</td>\n",
       "      <td>0.0</td>\n",
       "    </tr>\n",
       "    <tr>\n",
       "      <th>6</th>\n",
       "      <td>1.0</td>\n",
       "      <td>0.0</td>\n",
       "      <td>0.0</td>\n",
       "    </tr>\n",
       "    <tr>\n",
       "      <th>7</th>\n",
       "      <td>0.0</td>\n",
       "      <td>1.0</td>\n",
       "      <td>0.0</td>\n",
       "    </tr>\n",
       "    <tr>\n",
       "      <th>8</th>\n",
       "      <td>1.0</td>\n",
       "      <td>0.0</td>\n",
       "      <td>0.0</td>\n",
       "    </tr>\n",
       "    <tr>\n",
       "      <th>9</th>\n",
       "      <td>1.0</td>\n",
       "      <td>0.0</td>\n",
       "      <td>0.0</td>\n",
       "    </tr>\n",
       "    <tr>\n",
       "      <th>10</th>\n",
       "      <td>1.0</td>\n",
       "      <td>0.0</td>\n",
       "      <td>0.0</td>\n",
       "    </tr>\n",
       "    <tr>\n",
       "      <th>11</th>\n",
       "      <td>1.0</td>\n",
       "      <td>0.0</td>\n",
       "      <td>0.0</td>\n",
       "    </tr>\n",
       "    <tr>\n",
       "      <th>12</th>\n",
       "      <td>0.0</td>\n",
       "      <td>1.0</td>\n",
       "      <td>0.0</td>\n",
       "    </tr>\n",
       "    <tr>\n",
       "      <th>13</th>\n",
       "      <td>1.0</td>\n",
       "      <td>0.0</td>\n",
       "      <td>0.0</td>\n",
       "    </tr>\n",
       "    <tr>\n",
       "      <th>14</th>\n",
       "      <td>1.0</td>\n",
       "      <td>0.0</td>\n",
       "      <td>0.0</td>\n",
       "    </tr>\n",
       "    <tr>\n",
       "      <th>15</th>\n",
       "      <td>1.0</td>\n",
       "      <td>0.0</td>\n",
       "      <td>0.0</td>\n",
       "    </tr>\n",
       "    <tr>\n",
       "      <th>16</th>\n",
       "      <td>1.0</td>\n",
       "      <td>0.0</td>\n",
       "      <td>0.0</td>\n",
       "    </tr>\n",
       "    <tr>\n",
       "      <th>17</th>\n",
       "      <td>0.0</td>\n",
       "      <td>0.0</td>\n",
       "      <td>1.0</td>\n",
       "    </tr>\n",
       "    <tr>\n",
       "      <th>18</th>\n",
       "      <td>1.0</td>\n",
       "      <td>0.0</td>\n",
       "      <td>0.0</td>\n",
       "    </tr>\n",
       "    <tr>\n",
       "      <th>19</th>\n",
       "      <td>1.0</td>\n",
       "      <td>0.0</td>\n",
       "      <td>0.0</td>\n",
       "    </tr>\n",
       "  </tbody>\n",
       "</table>\n",
       "</div>"
      ],
      "text/plain": [
       "   Female Male    U\n",
       "0     0.0  1.0  0.0\n",
       "1     0.0  1.0  0.0\n",
       "2     1.0  0.0  0.0\n",
       "3     0.0  1.0  0.0\n",
       "4     1.0  0.0  0.0\n",
       "5     0.0  1.0  0.0\n",
       "6     1.0  0.0  0.0\n",
       "7     0.0  1.0  0.0\n",
       "8     1.0  0.0  0.0\n",
       "9     1.0  0.0  0.0\n",
       "10    1.0  0.0  0.0\n",
       "11    1.0  0.0  0.0\n",
       "12    0.0  1.0  0.0\n",
       "13    1.0  0.0  0.0\n",
       "14    1.0  0.0  0.0\n",
       "15    1.0  0.0  0.0\n",
       "16    1.0  0.0  0.0\n",
       "17    0.0  0.0  1.0\n",
       "18    1.0  0.0  0.0\n",
       "19    1.0  0.0  0.0"
      ]
     },
     "execution_count": 17,
     "metadata": {},
     "output_type": "execute_result"
    }
   ],
   "source": [
    "#one hot encoding is a way to turn categorical variables into multiple numerical columns\n",
    "from sklearn.preprocessing import OneHotEncoder\n",
    "encoder = OneHotEncoder().fit(X_cat)\n",
    "# encoder = OneHotEncoder(drop='first').fit(X_cat)\n",
    "print(encoder.categories_)\n",
    "encoded = encoder.transform(X_cat).toarray()\n",
    "print(encoded)\n",
    "onehot_encoded = pd.DataFrame(encoded,columns=encoder.categories_)\n",
    "onehot_encoded.head(20)"
   ]
  },
  {
   "cell_type": "code",
   "execution_count": null,
   "metadata": {
    "id": "6FrlHieBESXJ"
   },
   "outputs": [],
   "source": []
  },
  {
   "cell_type": "code",
   "execution_count": 18,
   "metadata": {
    "colab": {
     "base_uri": "https://localhost:8080/",
     "height": 204
    },
    "executionInfo": {
     "elapsed": 1121,
     "status": "ok",
     "timestamp": 1616693915744,
     "user": {
      "displayName": "David Henriques",
      "photoUrl": "",
      "userId": "14332050621134291491"
     },
     "user_tz": 0
    },
    "id": "jbmxbDE_9e31",
    "outputId": "cf0d6521-07b2-4f3e-87ff-9e7db7b76a48"
   },
   "outputs": [
    {
     "data": {
      "text/html": [
       "<div>\n",
       "<style scoped>\n",
       "    .dataframe tbody tr th:only-of-type {\n",
       "        vertical-align: middle;\n",
       "    }\n",
       "\n",
       "    .dataframe tbody tr th {\n",
       "        vertical-align: top;\n",
       "    }\n",
       "\n",
       "    .dataframe thead tr th {\n",
       "        text-align: left;\n",
       "    }\n",
       "</style>\n",
       "<table border=\"1\" class=\"dataframe\">\n",
       "  <thead>\n",
       "    <tr>\n",
       "      <th></th>\n",
       "      <th>Male</th>\n",
       "      <th>U</th>\n",
       "    </tr>\n",
       "  </thead>\n",
       "  <tbody>\n",
       "    <tr>\n",
       "      <th>0</th>\n",
       "      <td>1.0</td>\n",
       "      <td>0.0</td>\n",
       "    </tr>\n",
       "    <tr>\n",
       "      <th>1</th>\n",
       "      <td>1.0</td>\n",
       "      <td>0.0</td>\n",
       "    </tr>\n",
       "    <tr>\n",
       "      <th>2</th>\n",
       "      <td>0.0</td>\n",
       "      <td>0.0</td>\n",
       "    </tr>\n",
       "    <tr>\n",
       "      <th>3</th>\n",
       "      <td>1.0</td>\n",
       "      <td>0.0</td>\n",
       "    </tr>\n",
       "    <tr>\n",
       "      <th>4</th>\n",
       "      <td>0.0</td>\n",
       "      <td>0.0</td>\n",
       "    </tr>\n",
       "  </tbody>\n",
       "</table>\n",
       "</div>"
      ],
      "text/plain": [
       "  Male    U\n",
       "0  1.0  0.0\n",
       "1  1.0  0.0\n",
       "2  0.0  0.0\n",
       "3  1.0  0.0\n",
       "4  0.0  0.0"
      ]
     },
     "execution_count": 18,
     "metadata": {},
     "output_type": "execute_result"
    }
   ],
   "source": [
    "#because one of the variables can be deduced from the others, no point in keeping all these columns around\n",
    "onehot_encoded = onehot_encoded.drop(['Female'],axis=1)\n",
    "onehot_encoded.head()"
   ]
  },
  {
   "cell_type": "code",
   "execution_count": 19,
   "metadata": {
    "colab": {
     "base_uri": "https://localhost:8080/"
    },
    "executionInfo": {
     "elapsed": 1790,
     "status": "ok",
     "timestamp": 1616693935378,
     "user": {
      "displayName": "David Henriques",
      "photoUrl": "",
      "userId": "14332050621134291491"
     },
     "user_tz": 0
    },
    "id": "-k3FNwAqysBU",
    "outputId": "90d1dcba-39d5-4226-89e3-08a508177e8d"
   },
   "outputs": [
    {
     "name": "stderr",
     "output_type": "stream",
     "text": [
      "C:\\Users\\User\\anaconda3\\lib\\site-packages\\sklearn\\utils\\validation.py:63: DataConversionWarning: A column-vector y was passed when a 1d array was expected. Please change the shape of y to (n_samples, ), for example using ravel().\n",
      "  return f(*args, **kwargs)\n"
     ]
    },
    {
     "data": {
      "text/html": [
       "<div>\n",
       "<style scoped>\n",
       "    .dataframe tbody tr th:only-of-type {\n",
       "        vertical-align: middle;\n",
       "    }\n",
       "\n",
       "    .dataframe tbody tr th {\n",
       "        vertical-align: top;\n",
       "    }\n",
       "\n",
       "    .dataframe thead th {\n",
       "        text-align: right;\n",
       "    }\n",
       "</style>\n",
       "<table border=\"1\" class=\"dataframe\">\n",
       "  <thead>\n",
       "    <tr style=\"text-align: right;\">\n",
       "      <th></th>\n",
       "      <th>gender</th>\n",
       "    </tr>\n",
       "  </thead>\n",
       "  <tbody>\n",
       "    <tr>\n",
       "      <th>0</th>\n",
       "      <td>1</td>\n",
       "    </tr>\n",
       "    <tr>\n",
       "      <th>1</th>\n",
       "      <td>1</td>\n",
       "    </tr>\n",
       "    <tr>\n",
       "      <th>2</th>\n",
       "      <td>0</td>\n",
       "    </tr>\n",
       "    <tr>\n",
       "      <th>3</th>\n",
       "      <td>1</td>\n",
       "    </tr>\n",
       "    <tr>\n",
       "      <th>4</th>\n",
       "      <td>0</td>\n",
       "    </tr>\n",
       "    <tr>\n",
       "      <th>5</th>\n",
       "      <td>1</td>\n",
       "    </tr>\n",
       "    <tr>\n",
       "      <th>6</th>\n",
       "      <td>0</td>\n",
       "    </tr>\n",
       "    <tr>\n",
       "      <th>7</th>\n",
       "      <td>1</td>\n",
       "    </tr>\n",
       "    <tr>\n",
       "      <th>8</th>\n",
       "      <td>0</td>\n",
       "    </tr>\n",
       "    <tr>\n",
       "      <th>9</th>\n",
       "      <td>0</td>\n",
       "    </tr>\n",
       "    <tr>\n",
       "      <th>10</th>\n",
       "      <td>0</td>\n",
       "    </tr>\n",
       "    <tr>\n",
       "      <th>11</th>\n",
       "      <td>0</td>\n",
       "    </tr>\n",
       "    <tr>\n",
       "      <th>12</th>\n",
       "      <td>1</td>\n",
       "    </tr>\n",
       "    <tr>\n",
       "      <th>13</th>\n",
       "      <td>0</td>\n",
       "    </tr>\n",
       "    <tr>\n",
       "      <th>14</th>\n",
       "      <td>0</td>\n",
       "    </tr>\n",
       "    <tr>\n",
       "      <th>15</th>\n",
       "      <td>0</td>\n",
       "    </tr>\n",
       "    <tr>\n",
       "      <th>16</th>\n",
       "      <td>0</td>\n",
       "    </tr>\n",
       "    <tr>\n",
       "      <th>17</th>\n",
       "      <td>2</td>\n",
       "    </tr>\n",
       "    <tr>\n",
       "      <th>18</th>\n",
       "      <td>0</td>\n",
       "    </tr>\n",
       "    <tr>\n",
       "      <th>19</th>\n",
       "      <td>0</td>\n",
       "    </tr>\n",
       "  </tbody>\n",
       "</table>\n",
       "</div>"
      ],
      "text/plain": [
       "    gender\n",
       "0        1\n",
       "1        1\n",
       "2        0\n",
       "3        1\n",
       "4        0\n",
       "5        1\n",
       "6        0\n",
       "7        1\n",
       "8        0\n",
       "9        0\n",
       "10       0\n",
       "11       0\n",
       "12       1\n",
       "13       0\n",
       "14       0\n",
       "15       0\n",
       "16       0\n",
       "17       2\n",
       "18       0\n",
       "19       0"
      ]
     },
     "metadata": {},
     "output_type": "display_data"
    },
    {
     "data": {
      "text/plain": [
       "0    2664\n",
       "1    1895\n",
       "2     111\n",
       "Name: gender, dtype: int64"
      ]
     },
     "execution_count": 19,
     "metadata": {},
     "output_type": "execute_result"
    }
   ],
   "source": [
    "#label encoding keeps just one column and makes it numerical, but watch out: you may be introducing unintended semantics\n",
    "#if you want to contriol which nuber gets assigned to which category, you can use OrdinalEncoder\n",
    "from sklearn.preprocessing import LabelEncoder\n",
    "label_encoded = LabelEncoder().fit(X_cat).transform(X_cat) # ordered wrt value counts\n",
    "label_encoded = pd.DataFrame(label_encoded,columns=X_cat.columns)\n",
    "display(label_encoded.head(20))\n",
    "label_encoded['gender'].value_counts()"
   ]
  },
  {
   "cell_type": "code",
   "execution_count": 20,
   "metadata": {},
   "outputs": [
    {
     "name": "stderr",
     "output_type": "stream",
     "text": [
      "C:\\Users\\User\\anaconda3\\lib\\site-packages\\sklearn\\utils\\validation.py:63: DataConversionWarning: A column-vector y was passed when a 1d array was expected. Please change the shape of y to (n_samples, ), for example using ravel().\n",
      "  return f(*args, **kwargs)\n"
     ]
    },
    {
     "data": {
      "text/html": [
       "<div>\n",
       "<style scoped>\n",
       "    .dataframe tbody tr th:only-of-type {\n",
       "        vertical-align: middle;\n",
       "    }\n",
       "\n",
       "    .dataframe tbody tr th {\n",
       "        vertical-align: top;\n",
       "    }\n",
       "\n",
       "    .dataframe thead th {\n",
       "        text-align: right;\n",
       "    }\n",
       "</style>\n",
       "<table border=\"1\" class=\"dataframe\">\n",
       "  <thead>\n",
       "    <tr style=\"text-align: right;\">\n",
       "      <th></th>\n",
       "      <th>gender</th>\n",
       "    </tr>\n",
       "  </thead>\n",
       "  <tbody>\n",
       "    <tr>\n",
       "      <th>0</th>\n",
       "      <td>1</td>\n",
       "    </tr>\n",
       "    <tr>\n",
       "      <th>1</th>\n",
       "      <td>1</td>\n",
       "    </tr>\n",
       "    <tr>\n",
       "      <th>2</th>\n",
       "      <td>0</td>\n",
       "    </tr>\n",
       "    <tr>\n",
       "      <th>3</th>\n",
       "      <td>1</td>\n",
       "    </tr>\n",
       "    <tr>\n",
       "      <th>4</th>\n",
       "      <td>0</td>\n",
       "    </tr>\n",
       "    <tr>\n",
       "      <th>5</th>\n",
       "      <td>1</td>\n",
       "    </tr>\n",
       "    <tr>\n",
       "      <th>6</th>\n",
       "      <td>0</td>\n",
       "    </tr>\n",
       "    <tr>\n",
       "      <th>7</th>\n",
       "      <td>1</td>\n",
       "    </tr>\n",
       "    <tr>\n",
       "      <th>8</th>\n",
       "      <td>0</td>\n",
       "    </tr>\n",
       "    <tr>\n",
       "      <th>9</th>\n",
       "      <td>0</td>\n",
       "    </tr>\n",
       "    <tr>\n",
       "      <th>10</th>\n",
       "      <td>0</td>\n",
       "    </tr>\n",
       "    <tr>\n",
       "      <th>11</th>\n",
       "      <td>0</td>\n",
       "    </tr>\n",
       "    <tr>\n",
       "      <th>12</th>\n",
       "      <td>1</td>\n",
       "    </tr>\n",
       "    <tr>\n",
       "      <th>13</th>\n",
       "      <td>0</td>\n",
       "    </tr>\n",
       "    <tr>\n",
       "      <th>14</th>\n",
       "      <td>0</td>\n",
       "    </tr>\n",
       "    <tr>\n",
       "      <th>15</th>\n",
       "      <td>0</td>\n",
       "    </tr>\n",
       "    <tr>\n",
       "      <th>16</th>\n",
       "      <td>0</td>\n",
       "    </tr>\n",
       "    <tr>\n",
       "      <th>17</th>\n",
       "      <td>2</td>\n",
       "    </tr>\n",
       "    <tr>\n",
       "      <th>18</th>\n",
       "      <td>0</td>\n",
       "    </tr>\n",
       "    <tr>\n",
       "      <th>19</th>\n",
       "      <td>0</td>\n",
       "    </tr>\n",
       "  </tbody>\n",
       "</table>\n",
       "</div>"
      ],
      "text/plain": [
       "    gender\n",
       "0        1\n",
       "1        1\n",
       "2        0\n",
       "3        1\n",
       "4        0\n",
       "5        1\n",
       "6        0\n",
       "7        1\n",
       "8        0\n",
       "9        0\n",
       "10       0\n",
       "11       0\n",
       "12       1\n",
       "13       0\n",
       "14       0\n",
       "15       0\n",
       "16       0\n",
       "17       2\n",
       "18       0\n",
       "19       0"
      ]
     },
     "metadata": {},
     "output_type": "display_data"
    },
    {
     "data": {
      "text/plain": [
       "0    2664\n",
       "1    1895\n",
       "2     111\n",
       "Name: gender, dtype: int64"
      ]
     },
     "execution_count": 20,
     "metadata": {},
     "output_type": "execute_result"
    }
   ],
   "source": [
    "from sklearn.preprocessing import LabelEncoder\n",
    "label_encoded = LabelEncoder().fit(X_cat).transform(X_cat) # ordered wrt value counts\n",
    "label_encoded = pd.DataFrame(label_encoded,columns=X_cat.columns)\n",
    "display(label_encoded.head(20))\n",
    "label_encoded['gender'].value_counts()"
   ]
  },
  {
   "cell_type": "code",
   "execution_count": 21,
   "metadata": {
    "id": "bY0zJUqmysBV"
   },
   "outputs": [],
   "source": [
    "# Activity 2\n",
    "# do it yourself. Which one do you think is more appropriate here?"
   ]
  },
  {
   "cell_type": "code",
   "execution_count": 22,
   "metadata": {},
   "outputs": [
    {
     "name": "stdout",
     "output_type": "stream",
     "text": [
      "[array(['Female', 'Male', 'U'], dtype=object)]\n",
      "[[0. 1. 0.]\n",
      " [0. 1. 0.]\n",
      " [1. 0. 0.]\n",
      " ...\n",
      " [1. 0. 0.]\n",
      " [0. 1. 0.]\n",
      " [0. 1. 0.]]\n"
     ]
    },
    {
     "data": {
      "text/html": [
       "<div>\n",
       "<style scoped>\n",
       "    .dataframe tbody tr th:only-of-type {\n",
       "        vertical-align: middle;\n",
       "    }\n",
       "\n",
       "    .dataframe tbody tr th {\n",
       "        vertical-align: top;\n",
       "    }\n",
       "\n",
       "    .dataframe thead tr th {\n",
       "        text-align: left;\n",
       "    }\n",
       "</style>\n",
       "<table border=\"1\" class=\"dataframe\">\n",
       "  <thead>\n",
       "    <tr>\n",
       "      <th></th>\n",
       "      <th>Female</th>\n",
       "      <th>Male</th>\n",
       "      <th>U</th>\n",
       "    </tr>\n",
       "  </thead>\n",
       "  <tbody>\n",
       "    <tr>\n",
       "      <th>0</th>\n",
       "      <td>0.0</td>\n",
       "      <td>1.0</td>\n",
       "      <td>0.0</td>\n",
       "    </tr>\n",
       "    <tr>\n",
       "      <th>1</th>\n",
       "      <td>0.0</td>\n",
       "      <td>1.0</td>\n",
       "      <td>0.0</td>\n",
       "    </tr>\n",
       "    <tr>\n",
       "      <th>2</th>\n",
       "      <td>1.0</td>\n",
       "      <td>0.0</td>\n",
       "      <td>0.0</td>\n",
       "    </tr>\n",
       "    <tr>\n",
       "      <th>3</th>\n",
       "      <td>0.0</td>\n",
       "      <td>1.0</td>\n",
       "      <td>0.0</td>\n",
       "    </tr>\n",
       "    <tr>\n",
       "      <th>4</th>\n",
       "      <td>1.0</td>\n",
       "      <td>0.0</td>\n",
       "      <td>0.0</td>\n",
       "    </tr>\n",
       "    <tr>\n",
       "      <th>5</th>\n",
       "      <td>0.0</td>\n",
       "      <td>1.0</td>\n",
       "      <td>0.0</td>\n",
       "    </tr>\n",
       "    <tr>\n",
       "      <th>6</th>\n",
       "      <td>1.0</td>\n",
       "      <td>0.0</td>\n",
       "      <td>0.0</td>\n",
       "    </tr>\n",
       "    <tr>\n",
       "      <th>7</th>\n",
       "      <td>0.0</td>\n",
       "      <td>1.0</td>\n",
       "      <td>0.0</td>\n",
       "    </tr>\n",
       "    <tr>\n",
       "      <th>8</th>\n",
       "      <td>1.0</td>\n",
       "      <td>0.0</td>\n",
       "      <td>0.0</td>\n",
       "    </tr>\n",
       "    <tr>\n",
       "      <th>9</th>\n",
       "      <td>1.0</td>\n",
       "      <td>0.0</td>\n",
       "      <td>0.0</td>\n",
       "    </tr>\n",
       "    <tr>\n",
       "      <th>10</th>\n",
       "      <td>1.0</td>\n",
       "      <td>0.0</td>\n",
       "      <td>0.0</td>\n",
       "    </tr>\n",
       "    <tr>\n",
       "      <th>11</th>\n",
       "      <td>1.0</td>\n",
       "      <td>0.0</td>\n",
       "      <td>0.0</td>\n",
       "    </tr>\n",
       "    <tr>\n",
       "      <th>12</th>\n",
       "      <td>0.0</td>\n",
       "      <td>1.0</td>\n",
       "      <td>0.0</td>\n",
       "    </tr>\n",
       "    <tr>\n",
       "      <th>13</th>\n",
       "      <td>1.0</td>\n",
       "      <td>0.0</td>\n",
       "      <td>0.0</td>\n",
       "    </tr>\n",
       "    <tr>\n",
       "      <th>14</th>\n",
       "      <td>1.0</td>\n",
       "      <td>0.0</td>\n",
       "      <td>0.0</td>\n",
       "    </tr>\n",
       "    <tr>\n",
       "      <th>15</th>\n",
       "      <td>1.0</td>\n",
       "      <td>0.0</td>\n",
       "      <td>0.0</td>\n",
       "    </tr>\n",
       "    <tr>\n",
       "      <th>16</th>\n",
       "      <td>1.0</td>\n",
       "      <td>0.0</td>\n",
       "      <td>0.0</td>\n",
       "    </tr>\n",
       "    <tr>\n",
       "      <th>17</th>\n",
       "      <td>0.0</td>\n",
       "      <td>0.0</td>\n",
       "      <td>1.0</td>\n",
       "    </tr>\n",
       "    <tr>\n",
       "      <th>18</th>\n",
       "      <td>1.0</td>\n",
       "      <td>0.0</td>\n",
       "      <td>0.0</td>\n",
       "    </tr>\n",
       "    <tr>\n",
       "      <th>19</th>\n",
       "      <td>1.0</td>\n",
       "      <td>0.0</td>\n",
       "      <td>0.0</td>\n",
       "    </tr>\n",
       "  </tbody>\n",
       "</table>\n",
       "</div>"
      ],
      "text/plain": [
       "   Female Male    U\n",
       "0     0.0  1.0  0.0\n",
       "1     0.0  1.0  0.0\n",
       "2     1.0  0.0  0.0\n",
       "3     0.0  1.0  0.0\n",
       "4     1.0  0.0  0.0\n",
       "5     0.0  1.0  0.0\n",
       "6     1.0  0.0  0.0\n",
       "7     0.0  1.0  0.0\n",
       "8     1.0  0.0  0.0\n",
       "9     1.0  0.0  0.0\n",
       "10    1.0  0.0  0.0\n",
       "11    1.0  0.0  0.0\n",
       "12    0.0  1.0  0.0\n",
       "13    1.0  0.0  0.0\n",
       "14    1.0  0.0  0.0\n",
       "15    1.0  0.0  0.0\n",
       "16    1.0  0.0  0.0\n",
       "17    0.0  0.0  1.0\n",
       "18    1.0  0.0  0.0\n",
       "19    1.0  0.0  0.0"
      ]
     },
     "execution_count": 22,
     "metadata": {},
     "output_type": "execute_result"
    }
   ],
   "source": [
    "from sklearn.preprocessing import OneHotEncoder\n",
    "encoder = OneHotEncoder().fit(X_cat)\n",
    "print(encoder.categories_)\n",
    "encoded = encoder.transform(X_cat).toarray()\n",
    "print(encoded)\n",
    "onehot_encoded = pd.DataFrame(encoded,columns=encoder.categories_)\n",
    "onehot_encoded.head(20)"
   ]
  },
  {
   "cell_type": "code",
   "execution_count": null,
   "metadata": {},
   "outputs": [],
   "source": []
  },
  {
   "cell_type": "markdown",
   "metadata": {
    "id": "J95nrAzUysBV"
   },
   "source": [
    "# Lesson 2 : train-test split"
   ]
  },
  {
   "cell_type": "code",
   "execution_count": 23,
   "metadata": {
    "id": "kH5VfQjBysBV"
   },
   "outputs": [],
   "source": [
    "# let's merge all this information together into a single dataset with all features, now numerical\n",
    "X = pd.concat([x_normalized, onehot_encoded], axis=1)"
   ]
  },
  {
   "cell_type": "code",
   "execution_count": 24,
   "metadata": {
    "colab": {
     "base_uri": "https://localhost:8080/",
     "height": 204
    },
    "executionInfo": {
     "elapsed": 1996,
     "status": "ok",
     "timestamp": 1616693953212,
     "user": {
      "displayName": "David Henriques",
      "photoUrl": "",
      "userId": "14332050621134291491"
     },
     "user_tz": 0
    },
    "id": "2B76mPxX_XA2",
    "outputId": "c9a8cb0d-5579-46e8-a258-f46a3a4dee3f"
   },
   "outputs": [
    {
     "data": {
      "text/plain": [
       "(4670, 7)"
      ]
     },
     "execution_count": 24,
     "metadata": {},
     "output_type": "execute_result"
    }
   ],
   "source": [
    "X.shape"
   ]
  },
  {
   "cell_type": "code",
   "execution_count": 25,
   "metadata": {
    "colab": {
     "base_uri": "https://localhost:8080/"
    },
    "executionInfo": {
     "elapsed": 1927,
     "status": "ok",
     "timestamp": 1616693954043,
     "user": {
      "displayName": "David Henriques",
      "photoUrl": "",
      "userId": "14332050621134291491"
     },
     "user_tz": 0
    },
    "id": "Mw74s5WZBBEh",
    "outputId": "a925d17d-0ab7-40e2-835d-c9b11151068c"
   },
   "outputs": [
    {
     "data": {
      "text/plain": [
       "0    21.0\n",
       "1     3.0\n",
       "2    20.0\n",
       "3     5.0\n",
       "4    10.0\n",
       "Name: TARGET_D, dtype: float64"
      ]
     },
     "execution_count": 25,
     "metadata": {},
     "output_type": "execute_result"
    }
   ],
   "source": [
    "y = data['TARGET_D']\n",
    "y.head()"
   ]
  },
  {
   "cell_type": "code",
   "execution_count": 26,
   "metadata": {
    "id": "M09NplSrysBV"
   },
   "outputs": [],
   "source": [
    "# train test split is the way ML generates its claim to fame: \n",
    "# we build the model on a portion of the data but we then validate it in \n",
    "# another \"fresh\" portion\n",
    "# our model has no opportunity to \"cheat\": it must accurately guess the values \n",
    "# in the \"fresh\" dataset that it never saw before\n",
    "from sklearn.model_selection import train_test_split\n",
    "X_train, X_test, y_train, y_test = train_test_split(X, y, test_size=0.2, random_state=42)"
   ]
  },
  {
   "cell_type": "code",
   "execution_count": 27,
   "metadata": {
    "colab": {
     "base_uri": "https://localhost:8080/"
    },
    "executionInfo": {
     "elapsed": 1003,
     "status": "ok",
     "timestamp": 1616693959007,
     "user": {
      "displayName": "David Henriques",
      "photoUrl": "",
      "userId": "14332050621134291491"
     },
     "user_tz": 0
    },
    "id": "GZYRwtsYBMcr",
    "outputId": "a48beeab-7e83-48b1-c803-ae06974d326e"
   },
   "outputs": [
    {
     "name": "stdout",
     "output_type": "stream",
     "text": [
      "(3736, 7)\n",
      "(934, 7)\n",
      "(3736,)\n",
      "(934,)\n"
     ]
    }
   ],
   "source": [
    "print(X_train.shape)\n",
    "print(X_test.shape)\n",
    "print(y_train.shape)\n",
    "print(y_test.shape)"
   ]
  },
  {
   "cell_type": "code",
   "execution_count": 28,
   "metadata": {
    "colab": {
     "base_uri": "https://localhost:8080/",
     "height": 204
    },
    "executionInfo": {
     "elapsed": 1534,
     "status": "ok",
     "timestamp": 1616693966638,
     "user": {
      "displayName": "David Henriques",
      "photoUrl": "",
      "userId": "14332050621134291491"
     },
     "user_tz": 0
    },
    "id": "Gq3qQJlGBWSz",
    "outputId": "68c803ca-e606-46c1-9ccd-02ed161eb31f"
   },
   "outputs": [
    {
     "data": {
      "text/html": [
       "<div>\n",
       "<style scoped>\n",
       "    .dataframe tbody tr th:only-of-type {\n",
       "        vertical-align: middle;\n",
       "    }\n",
       "\n",
       "    .dataframe tbody tr th {\n",
       "        vertical-align: top;\n",
       "    }\n",
       "\n",
       "    .dataframe thead th {\n",
       "        text-align: right;\n",
       "    }\n",
       "</style>\n",
       "<table border=\"1\" class=\"dataframe\">\n",
       "  <thead>\n",
       "    <tr style=\"text-align: right;\">\n",
       "      <th></th>\n",
       "      <th>AVGGIFT</th>\n",
       "      <th>HV1_log</th>\n",
       "      <th>IC1_transformed</th>\n",
       "      <th>IC5_transformed</th>\n",
       "      <th>(Female,)</th>\n",
       "      <th>(Male,)</th>\n",
       "      <th>(U,)</th>\n",
       "    </tr>\n",
       "  </thead>\n",
       "  <tbody>\n",
       "    <tr>\n",
       "      <th>2858</th>\n",
       "      <td>0.013711</td>\n",
       "      <td>0.122383</td>\n",
       "      <td>0.784180</td>\n",
       "      <td>0.596107</td>\n",
       "      <td>1.0</td>\n",
       "      <td>0.0</td>\n",
       "      <td>0.0</td>\n",
       "    </tr>\n",
       "    <tr>\n",
       "      <th>4238</th>\n",
       "      <td>0.012499</td>\n",
       "      <td>0.126146</td>\n",
       "      <td>0.633440</td>\n",
       "      <td>0.562500</td>\n",
       "      <td>0.0</td>\n",
       "      <td>1.0</td>\n",
       "      <td>0.0</td>\n",
       "    </tr>\n",
       "    <tr>\n",
       "      <th>831</th>\n",
       "      <td>0.011887</td>\n",
       "      <td>0.147172</td>\n",
       "      <td>0.826925</td>\n",
       "      <td>0.776779</td>\n",
       "      <td>0.0</td>\n",
       "      <td>1.0</td>\n",
       "      <td>0.0</td>\n",
       "    </tr>\n",
       "    <tr>\n",
       "      <th>2285</th>\n",
       "      <td>0.013252</td>\n",
       "      <td>0.112634</td>\n",
       "      <td>0.504109</td>\n",
       "      <td>0.570522</td>\n",
       "      <td>1.0</td>\n",
       "      <td>0.0</td>\n",
       "      <td>0.0</td>\n",
       "    </tr>\n",
       "    <tr>\n",
       "      <th>1417</th>\n",
       "      <td>0.009468</td>\n",
       "      <td>0.175662</td>\n",
       "      <td>0.800766</td>\n",
       "      <td>0.604974</td>\n",
       "      <td>0.0</td>\n",
       "      <td>1.0</td>\n",
       "      <td>0.0</td>\n",
       "    </tr>\n",
       "  </tbody>\n",
       "</table>\n",
       "</div>"
      ],
      "text/plain": [
       "       AVGGIFT   HV1_log  IC1_transformed  IC5_transformed  (Female,)  \\\n",
       "2858  0.013711  0.122383         0.784180         0.596107        1.0   \n",
       "4238  0.012499  0.126146         0.633440         0.562500        0.0   \n",
       "831   0.011887  0.147172         0.826925         0.776779        0.0   \n",
       "2285  0.013252  0.112634         0.504109         0.570522        1.0   \n",
       "1417  0.009468  0.175662         0.800766         0.604974        0.0   \n",
       "\n",
       "      (Male,)  (U,)  \n",
       "2858      0.0   0.0  \n",
       "4238      1.0   0.0  \n",
       "831       1.0   0.0  \n",
       "2285      0.0   0.0  \n",
       "1417      1.0   0.0  "
      ]
     },
     "execution_count": 28,
     "metadata": {},
     "output_type": "execute_result"
    }
   ],
   "source": [
    "X_train.head()"
   ]
  },
  {
   "cell_type": "code",
   "execution_count": 29,
   "metadata": {
    "colab": {
     "base_uri": "https://localhost:8080/",
     "height": 204
    },
    "executionInfo": {
     "elapsed": 1001,
     "status": "ok",
     "timestamp": 1616693967354,
     "user": {
      "displayName": "David Henriques",
      "photoUrl": "",
      "userId": "14332050621134291491"
     },
     "user_tz": 0
    },
    "id": "l99OWrihBeHf",
    "outputId": "fc078d2e-ef0d-4b75-bde7-7ce8030bffec"
   },
   "outputs": [
    {
     "data": {
      "text/plain": [
       "2858     5.0\n",
       "4238    10.0\n",
       "831     10.0\n",
       "2285    11.0\n",
       "1417    10.0\n",
       "Name: TARGET_D, dtype: float64"
      ]
     },
     "execution_count": 29,
     "metadata": {},
     "output_type": "execute_result"
    }
   ],
   "source": [
    "y_train.head()"
   ]
  },
  {
   "cell_type": "code",
   "execution_count": 30,
   "metadata": {
    "id": "VWLAHXk-ysBW",
    "outputId": "7c7c437d-707f-48c8-cf03-90b722c55394"
   },
   "outputs": [
    {
     "data": {
      "text/plain": [
       "LinearRegression()"
      ]
     },
     "execution_count": 30,
     "metadata": {},
     "output_type": "execute_result"
    }
   ],
   "source": [
    "#we train/fit our model like yesterday\n",
    "lm = linear_model.LinearRegression()\n",
    "lm.fit(X_train,y_train)\n",
    "\n"
   ]
  },
  {
   "cell_type": "code",
   "execution_count": 31,
   "metadata": {
    "id": "y68Ijm8xESXP",
    "outputId": "b22acbd6-1e9e-432a-f93a-9b1c68cb040b"
   },
   "outputs": [
    {
     "data": {
      "text/plain": [
       "0.8617916442966341"
      ]
     },
     "execution_count": 31,
     "metadata": {},
     "output_type": "execute_result"
    }
   ],
   "source": [
    "from sklearn.metrics import r2_score\n",
    "predictions = lm.predict(X_train)\n",
    "r2_score(y_train, predictions)"
   ]
  },
  {
   "cell_type": "code",
   "execution_count": 32,
   "metadata": {
    "colab": {
     "base_uri": "https://localhost:8080/"
    },
    "executionInfo": {
     "elapsed": 601,
     "status": "ok",
     "timestamp": 1616694102127,
     "user": {
      "displayName": "David Henriques",
      "photoUrl": "",
      "userId": "14332050621134291491"
     },
     "user_tz": 0
    },
    "id": "cn28iz2peS7E",
    "outputId": "9d4a5928-d4d2-4cfe-b416-3673e592d657"
   },
   "outputs": [
    {
     "data": {
      "text/plain": [
       "0.7835732034742455"
      ]
     },
     "execution_count": 32,
     "metadata": {},
     "output_type": "execute_result"
    }
   ],
   "source": [
    "# But now we evaluate it in the TEST portion of the data, that we did not use for training.\n",
    "# This way we know our model is genuinely guessing our donations, not just repeating the values it has seen in the training data\n",
    "\n",
    "\n",
    "predictions = lm.predict(X_test)\n",
    "r2_score(y_test, predictions)"
   ]
  },
  {
   "cell_type": "code",
   "execution_count": 33,
   "metadata": {
    "id": "qidhh-pUESXR",
    "outputId": "a8fd7b5c-2819-444f-a9c4-4932068ab2e9"
   },
   "outputs": [
    {
     "data": {
      "text/plain": [
       "1714    11.0\n",
       "2481    12.0\n",
       "3646    21.0\n",
       "4139     6.0\n",
       "4062    30.0\n",
       "        ... \n",
       "4064    10.0\n",
       "356     13.0\n",
       "1330     5.0\n",
       "3464    20.0\n",
       "1864    15.0\n",
       "Name: TARGET_D, Length: 934, dtype: float64"
      ]
     },
     "execution_count": 33,
     "metadata": {},
     "output_type": "execute_result"
    }
   ],
   "source": [
    "y_test"
   ]
  },
  {
   "cell_type": "code",
   "execution_count": 34,
   "metadata": {
    "id": "ISy-0UvmESXS",
    "outputId": "1c91d68c-d872-4f55-8911-91dec0b520fa"
   },
   "outputs": [
    {
     "data": {
      "text/plain": [
       "4.55961612677076"
      ]
     },
     "execution_count": 34,
     "metadata": {},
     "output_type": "execute_result"
    }
   ],
   "source": [
    "from sklearn.metrics import mean_squared_error\n",
    "np.sqrt(mean_squared_error(y_test,predictions))"
   ]
  },
  {
   "cell_type": "code",
   "execution_count": 35,
   "metadata": {
    "id": "L3sSEfm8ESXT",
    "outputId": "b8f61f73-4ad4-4bfb-dea9-65b2d7604027"
   },
   "outputs": [
    {
     "data": {
      "text/plain": [
       "array([ 1.50439417e+01,  1.14513752e+01,  2.07847735e+01,  9.73320677e+00,\n",
       "        3.25016748e+01,  8.28288383e+00,  2.49319882e+01,  9.35842613e+00,\n",
       "        1.16465936e+01,  1.82452416e+01,  2.90416859e+01,  2.10173570e+01,\n",
       "        1.65621651e+01,  1.20793855e+01,  6.49987711e+00,  1.37887827e+01,\n",
       "        1.09934622e+01,  1.05264089e+01,  6.37095000e+00,  1.11328633e+01,\n",
       "        2.25286228e+01,  2.56705015e+01,  1.74320042e+01,  8.78760236e+00,\n",
       "        1.31042196e+01,  1.18216706e+01,  3.79650252e+00,  1.96573266e+01,\n",
       "        1.07676279e+01,  9.66658724e+00,  1.16873275e+01,  1.28613426e+01,\n",
       "        1.86373091e+01,  1.88283362e+01,  1.30880278e+01,  1.67478130e+01,\n",
       "        2.86934804e+00,  5.19817031e+00,  1.20018340e+01,  7.69066801e+00,\n",
       "        2.78354100e+01,  1.94426727e+01,  7.31925315e+00,  3.55392669e+00,\n",
       "        1.65823575e+01,  8.78590611e+00,  1.18678242e+01,  6.13689601e+00,\n",
       "        1.42593992e+01,  1.34271125e+01,  3.04884122e+01,  1.98127893e+01,\n",
       "        8.36257496e+00,  1.79633191e+01,  2.35401715e+01,  2.11665436e+01,\n",
       "        9.90643328e+00,  1.34978216e+01,  1.18462990e+01,  7.69697601e+00,\n",
       "        1.15640869e+01,  9.49878670e+00,  1.81093094e+01,  1.54017767e+01,\n",
       "        2.06085777e+01,  1.68933835e+01,  1.97493377e+01,  8.10833353e+00,\n",
       "        1.31339349e+01,  1.15349404e+01,  3.90745881e+00,  1.77741302e+01,\n",
       "        2.38058106e+01,  1.37437645e+01,  2.57492861e+01,  2.16291820e+01,\n",
       "        1.78782786e+01,  8.78998535e+00,  1.37773998e+01,  1.45757179e+01,\n",
       "        2.00274436e+01,  1.12034925e+01,  1.29257661e+01,  1.39517314e+01,\n",
       "        9.36917103e+00,  6.59142051e+00,  1.34063318e+01,  1.53057988e+01,\n",
       "        1.42707942e+01,  9.37810318e+00,  9.42931417e+00,  7.47473779e+00,\n",
       "        3.06020333e+00,  2.42116137e+01,  2.50124963e+01,  6.21662252e-01,\n",
       "        2.14126289e+01,  2.26307672e+01,  5.51559165e+00,  1.52294050e+01,\n",
       "        2.45210498e+01,  1.12519910e+01,  2.17504668e+01,  8.35204113e+00,\n",
       "        4.07974571e+00,  2.75520967e+01,  1.42930975e+01,  2.05585513e+00,\n",
       "        3.91637475e+00,  1.58121929e+01,  1.04040689e+01,  2.41365221e+01,\n",
       "        1.74300381e+01,  2.28892411e+00,  1.01095031e+00,  1.76807027e+01,\n",
       "        1.06987104e+01,  3.10687733e+01,  2.42855579e+01,  1.37442777e+01,\n",
       "        1.64099960e+01,  1.22039704e+01,  1.36398965e+01,  2.80692633e+01,\n",
       "        6.43079489e+00,  3.86207477e+00,  3.54794353e+01,  7.22784319e+00,\n",
       "        9.92503943e+00,  1.87954261e+00,  2.45700423e+01,  1.19588057e+01,\n",
       "        1.00684214e+01,  2.46906715e+01,  1.57104553e+01,  1.31182671e+01,\n",
       "        7.82078297e+01,  2.01066253e+01,  1.33673490e+01,  1.54662111e+01,\n",
       "        9.14328614e+00,  7.02646539e+00,  1.46126737e+00,  1.40519085e+01,\n",
       "        1.47984624e+01,  1.26581766e+01,  2.03250306e+01,  2.69817337e+01,\n",
       "        1.63769601e+01,  1.10542621e+01,  9.18139534e+00,  5.58886504e+00,\n",
       "        8.17224114e+00,  2.39978285e+01,  1.98158567e+01,  1.26981093e+01,\n",
       "        3.70348124e+01, -3.69951269e-01,  9.78302464e+00,  9.95750419e+00,\n",
       "        2.10348129e+01,  9.23424170e+00,  8.30506177e+00,  1.37626027e+01,\n",
       "        1.49241989e+01,  2.06366716e+01,  5.59609156e+00,  6.38919287e+00,\n",
       "        1.83983452e+01,  1.86190036e-01,  1.16439841e+01,  2.24690480e+01,\n",
       "        2.35544009e+01,  7.70119895e+00,  6.16995178e+00,  4.37406030e+00,\n",
       "        1.16431516e+01,  1.23326989e+01,  8.97779503e+00,  2.28388126e+01,\n",
       "        9.87986276e+00,  2.04951432e+01,  8.09676855e+00,  2.12420266e+01,\n",
       "        1.93487231e+01,  9.37292334e+00,  7.20107898e+00,  1.00733923e+01,\n",
       "        7.48907768e+00,  1.22853076e+01,  2.84339497e+00,  3.38813786e+01,\n",
       "        2.01393941e+01,  1.41336368e+01,  1.23549578e+01,  2.77373261e+01,\n",
       "        2.05888717e+01,  2.28907496e+01,  9.19225574e+00,  2.30079542e+01,\n",
       "        2.12216968e+01,  1.35044541e+01,  1.04160045e+01,  7.30391477e+00,\n",
       "        1.28419299e+01,  1.65069967e+01,  1.24373890e+01,  2.11800739e+01,\n",
       "        1.18186839e+01,  2.18509104e+01,  2.58326974e+01,  9.34528783e+00,\n",
       "        1.01922900e+01,  1.23323125e+01,  1.40868489e+01,  7.77808903e+00,\n",
       "        2.29839189e+01,  2.88956929e+01,  9.28188646e+00,  3.65299584e+00,\n",
       "        1.04666437e+01,  1.59433704e+01,  4.83225790e+00, -4.79109458e+00,\n",
       "        8.33886756e+00,  8.11543824e+00,  1.73237424e+01,  1.18328501e+01,\n",
       "        4.42590471e+01,  2.44102714e+00,  1.02952450e+01,  1.15230913e+01,\n",
       "        1.05603417e+01,  1.32681329e+01,  1.98434010e+01,  1.44493867e+01,\n",
       "        1.87110033e+01,  8.05762961e+00,  1.20273075e+01,  9.84925995e+00,\n",
       "        1.67453544e+01,  8.41745518e+00,  2.23274386e+01,  8.31332388e+00,\n",
       "        1.67931538e+01,  1.00884401e+01,  1.36975361e+01,  1.59751185e+01,\n",
       "        7.14980904e+00,  2.00540751e+01,  1.26926009e+01,  2.39654819e+01,\n",
       "        8.65922097e+00,  4.01147464e+00,  2.89983815e+00,  7.81001662e+00,\n",
       "        1.21323834e+01,  1.01224018e+01,  1.15399218e+01,  1.62206618e+01,\n",
       "        7.39679844e+00,  2.11299553e+01,  1.42112187e+01,  1.91137747e+01,\n",
       "        1.55090106e+01,  1.08596848e+01,  2.31342962e+01,  1.63812556e+01,\n",
       "        2.86592367e+01,  4.24079195e+00,  2.26124910e+01,  3.52913645e+01,\n",
       "        5.74033818e+00,  1.94582246e+01,  2.85196700e+01,  8.31556970e+00,\n",
       "        1.27801347e+01,  5.17641970e+00,  8.14072068e+00,  2.88352933e+01,\n",
       "        1.78631838e+01,  1.28274952e+01,  8.87229036e+00,  6.02525285e+00,\n",
       "        1.11524035e+01,  7.48316502e+00,  3.24627573e+00,  2.21506448e+01,\n",
       "        8.29341073e+00,  2.67347076e+01,  1.80771778e+01,  1.96552313e+01,\n",
       "        1.33465815e+01,  7.56880163e+00,  1.32768155e+01,  1.58575076e+01,\n",
       "        1.42472800e+01, -6.90348966e+00,  8.86675002e+00,  1.19239774e+01,\n",
       "        2.33789148e+01,  1.38923650e+01,  3.07982852e+01,  3.68255874e+01,\n",
       "        8.27952269e+00,  1.94613007e+01,  1.35707313e+01,  1.30197278e+01,\n",
       "        1.87231857e+01,  9.02685474e+00,  1.68291847e+01,  1.36906021e+01,\n",
       "        1.21153706e+01,  2.84705558e+01,  1.80457672e+01,  1.51849224e+01,\n",
       "        2.86878032e+01,  1.23304776e+01,  2.51687729e+01,  8.39707822e+00,\n",
       "        1.91607229e+01,  6.27244711e+00,  1.73549681e+01,  2.34367043e+01,\n",
       "        1.94872537e+00,  2.29719708e+01,  1.09257626e+01,  2.06842345e+01,\n",
       "        2.40178968e+01,  1.88276471e+01,  1.37059019e+01,  9.05325865e+00,\n",
       "        8.73319792e+00,  1.58234436e+01,  1.14075117e+01,  2.36970831e+00,\n",
       "        8.72214050e+00,  2.30440542e+01,  1.05584957e+01,  7.01646525e+00,\n",
       "        4.22633428e+00,  4.30846714e+00,  1.05491796e+00,  8.75687787e+00,\n",
       "        2.75633228e+01,  1.16816316e+01,  9.52000674e+00,  2.44134082e+01,\n",
       "        2.60733434e+01,  1.12874631e+01,  1.41556227e+01,  2.32725536e+00,\n",
       "        3.98481676e+01,  3.08210523e+00,  1.90951888e+01,  9.34607821e+01,\n",
       "        6.69989812e+00,  2.33038879e+01,  1.27113135e+01,  3.13093959e+01,\n",
       "        1.55098181e+01,  3.75769176e+01,  6.92252840e+00,  6.76435108e+00,\n",
       "        8.06788292e+00,  6.96811834e+00,  2.78093883e+01,  2.07622116e+01,\n",
       "        2.44177407e+01,  3.22604423e+01,  1.92256660e+01,  5.06388571e+01,\n",
       "        4.72739029e+00,  1.69501581e+01,  6.25549938e+00,  5.81700639e+00,\n",
       "        1.21490962e+01,  6.47547677e+00,  1.57968410e+01,  1.78532878e+01,\n",
       "        5.74125074e+00,  7.38337256e+00,  7.00577388e+00,  2.38601458e+00,\n",
       "        2.07503885e+01,  1.48115789e+01,  6.58409405e+00,  9.92771099e+00,\n",
       "        4.27563271e+01,  4.54048698e+00,  1.74916204e+01,  1.33904710e+01,\n",
       "        5.32490620e+00,  1.29688641e+01,  6.96259896e+00,  1.41681612e+01,\n",
       "        9.82351126e+00,  2.19826421e+01,  9.57177835e+00,  2.30952708e+01,\n",
       "        1.62745136e+01,  1.49288124e+01,  8.03061524e+00,  3.29484627e+01,\n",
       "        1.38656850e+01,  2.68442931e+01,  8.55808910e+00,  1.03510036e+01,\n",
       "       -1.05374942e+00,  1.20613427e+01,  1.44311176e+01,  6.48748557e+00,\n",
       "        2.13659477e+01,  7.86399142e+00,  1.12608231e+01,  5.57622466e+00,\n",
       "        1.28750744e+01,  7.60978952e+00,  1.62516901e+01,  1.13305495e+01,\n",
       "        3.65299682e+00,  7.11397090e+00,  1.37795151e+01,  5.80299996e+00,\n",
       "        2.58654203e+01,  1.91557336e+01,  2.29029918e+01,  1.49049590e+01,\n",
       "        1.84869583e+01,  1.36662093e+01,  1.05624554e+01,  7.89761749e+00,\n",
       "        1.97980825e+01,  1.95992773e+01,  1.49062701e+01,  2.86008837e-01,\n",
       "        2.03582475e+01,  2.75485344e+01,  1.13144958e+01,  1.29990739e+01,\n",
       "        1.61030430e+01,  1.99427733e+01,  7.21716176e+00,  2.27779635e+01,\n",
       "        5.04917241e+00,  2.64194031e+00,  1.01981390e+01,  2.44811943e+01,\n",
       "        3.24731461e+01,  6.37128343e+00,  7.13805099e+00,  1.41183457e+01,\n",
       "        9.72361823e+00,  8.29161572e+00,  2.27194873e+01,  9.71981027e+00,\n",
       "        1.62088238e+01,  2.98959498e+01,  1.40771007e+01,  2.19342767e+00,\n",
       "        1.86219689e+01,  1.54587940e+01,  1.47205252e+01,  9.76277037e+00,\n",
       "        1.89297860e+01,  1.48866533e+01,  1.07383495e+01, -5.54118808e+00,\n",
       "        4.91557985e+00,  1.48583602e+01,  1.36208178e+01,  3.63671989e+01,\n",
       "        7.35535889e+00,  2.81652233e+00,  3.71586831e+01,  3.76446828e+01,\n",
       "        2.08482362e+01,  1.97511016e+01,  1.83923430e+01,  1.89720690e+01,\n",
       "        1.49465900e+01,  5.20660942e-01,  6.06348938e+01,  7.07154610e+00,\n",
       "        3.24338299e+01,  1.01701754e+01,  2.36664470e+01,  1.44572103e+01,\n",
       "        1.74968049e+01,  6.58521769e+00,  6.91758027e-01,  1.92673651e+01,\n",
       "        1.03629446e+01,  1.79184324e+01,  1.31141854e+01,  1.73185817e+01,\n",
       "        1.71026050e+01,  1.38732931e+01,  1.00385033e+01,  2.37731664e+01,\n",
       "        2.03873239e+01,  1.63510014e+01,  1.64735537e+01,  7.90143540e+00,\n",
       "        1.04736334e+01,  1.30730608e+01,  2.46997408e+01,  1.72755098e+01,\n",
       "        2.20202131e+01,  1.16832242e+01,  2.23836154e+01,  7.67985164e+00,\n",
       "        1.69095006e+01,  1.41418126e+01,  1.95647825e+01,  3.82998031e+01,\n",
       "        1.40546171e+01,  1.39613696e+01,  6.99708389e+00,  8.43514319e+00,\n",
       "        8.79903247e+00,  9.06297062e+00,  3.89683157e+01,  2.01905623e+00,\n",
       "        1.33832817e+01,  1.28356891e+01,  1.19685291e+01,  1.50570094e+01,\n",
       "        3.00237716e+01,  5.41872734e+00,  3.12286880e+01,  1.59759359e+01,\n",
       "        1.73442393e+01,  1.82287508e+01,  2.67213678e+01,  4.86567189e+00,\n",
       "        1.39209877e+01,  1.14744169e+01,  1.12458789e+01,  5.00504043e+01,\n",
       "        2.04768893e+01,  1.72863147e+01,  1.27269898e+01,  1.43771138e+00,\n",
       "        7.59001188e+00,  1.16560520e+01,  1.21279511e+01,  3.53105075e+00,\n",
       "        4.69333906e+00,  3.14332688e+01,  9.62551133e+00,  2.24431285e+01,\n",
       "        1.78660392e+01,  3.00573117e+01,  3.70985800e+01,  9.75408220e+00,\n",
       "        4.79424796e+00,  1.27828021e+01,  1.96665249e+01,  1.61678682e+01,\n",
       "        1.32113698e+01,  9.64089541e+00,  1.09240588e+01,  5.32752433e+00,\n",
       "        1.49461974e+01,  1.48405521e+01,  1.43736136e+01,  1.39118713e+01,\n",
       "        1.56299147e+01,  6.71943786e+00,  9.67815509e+00,  9.43257694e+00,\n",
       "        1.21085404e+01,  1.74357972e+01,  1.67770043e+01,  1.20482365e+00,\n",
       "        4.75332809e+00,  2.35530703e+01,  2.60678995e+01,  6.89933143e+00,\n",
       "        7.64675040e+00,  5.38028576e+00,  1.52035687e+01,  7.29515057e+00,\n",
       "        2.51400538e+01,  6.50925626e+00,  3.10470670e+01,  1.46388214e+01,\n",
       "        4.99535893e-02,  2.11372825e+01,  7.11198890e+00,  1.77296353e+01,\n",
       "        7.61082819e-01,  8.18371292e+00,  9.02713151e+00,  1.65902204e+01,\n",
       "        5.44113401e+00,  1.02956023e+01,  1.62908655e+01,  1.84801949e+01,\n",
       "        1.43744886e+01,  8.41751610e+00,  1.95534591e+01,  6.70653585e+00,\n",
       "        2.09591883e+01,  1.71151890e+01,  1.37127273e+01,  1.33265557e+01,\n",
       "        1.78102765e+01,  1.70464743e+01,  1.14183459e+01,  2.13097128e+01,\n",
       "        1.37978102e+01,  1.77115721e+01,  7.88952814e+00,  1.46930570e+01,\n",
       "        1.29402459e+01,  1.33791899e+01,  1.43057743e+01,  1.98317274e+01,\n",
       "        2.06185297e+01,  1.41409666e+01,  2.61779978e+01,  3.70335036e+00,\n",
       "        2.68817932e+01,  1.28848174e+01,  1.51260151e+01,  7.80456267e+00,\n",
       "        1.04974022e+01,  6.22376379e+00,  7.96559540e+00,  8.56593531e+00,\n",
       "        1.97449525e+01,  5.66602426e+00,  2.67371037e+01,  1.50050416e+01,\n",
       "        5.85597329e+00,  1.00242953e+01,  9.68245892e+00,  2.03198458e+01,\n",
       "        1.75631738e+01,  1.02326915e+01,  2.12519889e+01,  4.96777279e+01,\n",
       "        2.56222861e+00,  2.06857623e+01,  2.42968428e+01,  9.83830145e+00,\n",
       "        1.76205464e+01,  7.37059972e+00,  2.07621573e+01,  1.42220067e+01,\n",
       "        1.03488138e+01,  8.68172461e+00,  1.32442570e+01,  1.93038984e+01,\n",
       "        1.01887443e+01,  2.61087176e+01,  1.55083315e+01,  3.64215699e+01,\n",
       "        1.24267304e+01,  1.85546237e+01,  1.54460951e+01,  1.30829441e+01,\n",
       "        1.74063662e+01,  2.72821930e+01,  1.23420484e+01,  1.35685841e+01,\n",
       "        8.99898906e+00,  1.07755142e+01,  7.60969206e+00,  1.08949155e+01,\n",
       "        3.28463008e+01,  2.15404833e+01,  1.30157512e+01,  1.04983897e+01,\n",
       "        4.19172800e+00,  2.54867401e+01,  2.64589743e+01,  1.36398420e+01,\n",
       "        2.09912202e+01,  2.10442419e+00,  3.01202004e+01,  2.12605758e+00,\n",
       "        2.18908000e+01,  2.10982672e+01,  1.69001771e+01,  2.16402155e+01,\n",
       "        9.17678364e+00,  2.73465889e+01,  1.16612169e+01,  1.73712712e+00,\n",
       "        4.20988455e+00,  2.87992702e+01,  4.07708584e+00,  1.66651051e+01,\n",
       "        1.19332140e+01,  2.31028358e+01,  1.09862475e+01,  1.60693229e+01,\n",
       "        2.72225908e+01,  1.61654413e+01,  8.69633214e+00,  1.08943873e+01,\n",
       "        7.56573774e+00,  1.13495935e+01,  3.00701351e+00,  1.77194900e+01,\n",
       "        3.74900342e+00,  7.22647299e+00,  3.96303974e+00,  1.19117020e+01,\n",
       "        1.64873693e+01,  1.10707682e+01,  2.96877604e+01,  1.87332268e+01,\n",
       "        8.83524810e+00,  2.42122140e+01,  2.98962295e+01,  1.00976113e+01,\n",
       "        1.03694470e+01,  1.76305692e+01,  9.30011033e+00,  1.46696972e+01,\n",
       "        9.74822160e+00,  3.69073685e+01,  7.71475964e+00,  9.78125037e+00,\n",
       "        1.79638803e+01,  7.67792957e+00,  9.94583539e+00,  4.09047145e+01,\n",
       "        9.06129413e+00,  1.95064450e+00,  1.36066630e+01,  1.57718037e+01,\n",
       "        3.33400038e+01,  2.94339574e+01,  1.30766052e+01,  9.18223469e+00,\n",
       "        2.75656899e+01,  2.44587764e+01,  3.20485430e+01,  2.24912976e+01,\n",
       "        1.02103859e+01,  2.53528194e+01,  2.97615679e+01,  6.91255029e+00,\n",
       "        9.92631195e+00,  1.47162208e+01,  2.10774247e+00,  3.90091773e+00,\n",
       "        2.22747382e+01,  3.47436612e+00,  1.74433008e+01,  9.92548265e+00,\n",
       "        1.00409192e+01,  6.12814309e+00,  1.65461775e+01,  9.52181762e+00,\n",
       "        1.02560980e+01,  1.07664257e+01,  2.79906589e+00,  1.95073718e+01,\n",
       "        2.15919508e+01,  3.96339682e+01,  4.52188775e+00,  2.64743093e+01,\n",
       "        8.75883069e+00,  2.41894383e+01,  1.03669108e+01,  6.70097088e+00,\n",
       "        1.48869003e+01,  9.32708340e+00,  5.94526730e+00,  1.71463656e+01,\n",
       "        8.33223580e+00,  5.68256937e+00,  8.34204012e+00,  1.74138827e+01,\n",
       "        1.20544709e+01,  2.87457440e+01,  1.43805097e+01,  1.24042039e+01,\n",
       "        1.99042576e+01,  1.04054130e+01,  1.38543874e+01,  9.05702266e+00,\n",
       "        2.46279328e+01,  1.56843362e+01,  1.08148479e+01,  1.58045025e+01,\n",
       "        2.16011325e+01,  2.74702523e+01,  9.59752189e+00,  1.52647794e+01,\n",
       "        2.32032269e+01,  9.10335869e+00,  6.26486265e+00,  2.59713410e+01,\n",
       "        2.41936732e+01,  2.03859893e+01,  1.84143529e+01,  2.30004331e+01,\n",
       "        1.97073589e+01,  9.28894712e+00,  1.60122496e+01,  6.62035370e+01,\n",
       "        2.67618485e+01,  8.65384384e+00,  1.10806674e+01,  5.20633995e+00,\n",
       "        8.11557322e+00,  2.06335719e+01,  1.55812514e+01,  1.10878832e+01,\n",
       "        9.83832082e+00,  9.44601032e+00,  4.82885131e+00,  4.57059137e+00,\n",
       "        1.59048320e+01,  2.22486841e+01,  8.77595139e+00,  7.90702127e+00,\n",
       "        5.16579905e+00,  1.19975093e+01,  1.76457199e+01,  1.32689758e+01,\n",
       "        2.44836767e+01,  7.68525005e+00,  1.96128742e+01,  2.28422980e+01,\n",
       "        9.62207698e+00,  5.25900080e+00,  2.43685685e+01,  1.60645542e+01,\n",
       "        1.50098370e+01,  1.01724064e+01,  1.17084957e+01,  2.87061433e+01,\n",
       "        3.18168527e+00,  1.78110594e+01,  1.08153536e+01,  1.63843638e+01,\n",
       "        3.17716084e+01,  7.51516839e+00,  7.12646750e+00,  5.15592514e+00,\n",
       "       -9.12664301e-01,  8.41558404e+00,  8.92251878e+00,  5.63341880e+00,\n",
       "        1.47719507e+01,  1.44405886e+00,  2.30973431e+01,  1.73916393e+01,\n",
       "        3.44879906e+00,  1.95278953e+01,  1.28969851e+01,  3.06610227e+00,\n",
       "        2.89348311e+01,  1.18507911e+01,  1.05088592e+01,  7.07740230e+00,\n",
       "        1.87546887e+01,  7.39431399e+00,  1.31952017e+01,  2.18732048e+01,\n",
       "        1.01056491e+01,  1.15747482e+01,  6.40225304e+00,  1.92448022e+01,\n",
       "        1.19157375e+01,  1.78166148e+01,  1.67639774e+01,  5.51183767e+00,\n",
       "        9.39233429e+00,  7.13443167e+00,  2.27434992e+01,  1.57505019e+01,\n",
       "        3.38088323e+00,  1.96027496e+01,  1.29871155e+01,  5.86112443e+00,\n",
       "        9.55168256e+00,  4.50936873e+01,  3.82674518e+01,  1.06128372e+01,\n",
       "        2.64499073e+01,  4.82711641e+00,  1.34862645e+01,  1.09637471e+01,\n",
       "        8.80915735e+00,  7.41258955e+00,  6.35475956e+00,  7.63480708e+00,\n",
       "        8.20236824e+00,  8.15890051e+00,  1.67641858e+01,  2.24230495e+01,\n",
       "        4.35253521e+01,  1.60737940e+01,  1.94592419e+01,  1.58633555e+00,\n",
       "        1.43677421e+01,  2.39279006e+01,  1.42873675e+01,  4.65911761e+00,\n",
       "        5.44451300e+01,  3.27320759e+01,  8.74498033e+00,  4.85030098e+00,\n",
       "        5.32250656e+00,  1.21150228e+01,  4.59974927e+01,  2.39867032e+01,\n",
       "        2.10098369e+01,  2.54965146e+01,  2.20127185e+00,  1.48118883e+01,\n",
       "        2.27534132e+01,  8.87487474e+00,  6.92009253e+00,  1.82139209e+01,\n",
       "        2.86612190e+01,  3.22774147e+01,  1.21941961e+01,  6.19715892e+00,\n",
       "        2.61615726e+01,  1.26834447e+01,  1.00398609e+01,  1.50837802e+01,\n",
       "        2.24175713e+01,  1.18750098e+01])"
      ]
     },
     "execution_count": 35,
     "metadata": {},
     "output_type": "execute_result"
    }
   ],
   "source": [
    "predictions"
   ]
  },
  {
   "cell_type": "code",
   "execution_count": 36,
   "metadata": {
    "id": "O7IUc023ysBW"
   },
   "outputs": [],
   "source": [
    "# to make predictions on the new data, \n",
    "# we have to process the data (X features) in the same way. "
   ]
  },
  {
   "cell_type": "code",
   "execution_count": 46,
   "metadata": {
    "colab": {
     "base_uri": "https://localhost:8080/",
     "height": 204
    },
    "executionInfo": {
     "elapsed": 1577,
     "status": "ok",
     "timestamp": 1616694045800,
     "user": {
      "displayName": "David Henriques",
      "photoUrl": "",
      "userId": "14332050621134291491"
     },
     "user_tz": 0
    },
    "id": "GgONVwJ-ysBX",
    "outputId": "5a5ddb77-864f-4b3d-bc3d-af4646269f55"
   },
   "outputs": [
    {
     "data": {
      "text/html": [
       "<div>\n",
       "<style scoped>\n",
       "    .dataframe tbody tr th:only-of-type {\n",
       "        vertical-align: middle;\n",
       "    }\n",
       "\n",
       "    .dataframe tbody tr th {\n",
       "        vertical-align: top;\n",
       "    }\n",
       "\n",
       "    .dataframe thead th {\n",
       "        text-align: right;\n",
       "    }\n",
       "</style>\n",
       "<table border=\"1\" class=\"dataframe\">\n",
       "  <thead>\n",
       "    <tr style=\"text-align: right;\">\n",
       "      <th></th>\n",
       "      <th>AVGGIFT</th>\n",
       "      <th>HV1_log</th>\n",
       "      <th>IC1_transformed</th>\n",
       "      <th>IC5_transformed</th>\n",
       "      <th>gender</th>\n",
       "    </tr>\n",
       "  </thead>\n",
       "  <tbody>\n",
       "    <tr>\n",
       "      <th>0</th>\n",
       "      <td>8.714286</td>\n",
       "      <td>7.209011</td>\n",
       "      <td>17.666103</td>\n",
       "      <td>4.166268</td>\n",
       "      <td>Male</td>\n",
       "    </tr>\n",
       "    <tr>\n",
       "      <th>1</th>\n",
       "      <td>16.500000</td>\n",
       "      <td>9.317831</td>\n",
       "      <td>17.358310</td>\n",
       "      <td>4.224620</td>\n",
       "      <td>Male</td>\n",
       "    </tr>\n",
       "    <tr>\n",
       "      <th>2</th>\n",
       "      <td>15.100000</td>\n",
       "      <td>8.402447</td>\n",
       "      <td>14.627447</td>\n",
       "      <td>4.186322</td>\n",
       "      <td>Male</td>\n",
       "    </tr>\n",
       "    <tr>\n",
       "      <th>3</th>\n",
       "      <td>4.848485</td>\n",
       "      <td>6.440114</td>\n",
       "      <td>12.270634</td>\n",
       "      <td>4.144954</td>\n",
       "      <td>Female</td>\n",
       "    </tr>\n",
       "    <tr>\n",
       "      <th>4</th>\n",
       "      <td>19.000000</td>\n",
       "      <td>8.607769</td>\n",
       "      <td>17.977822</td>\n",
       "      <td>4.280958</td>\n",
       "      <td>Female</td>\n",
       "    </tr>\n",
       "  </tbody>\n",
       "</table>\n",
       "</div>"
      ],
      "text/plain": [
       "     AVGGIFT   HV1_log  IC1_transformed  IC5_transformed  gender\n",
       "0   8.714286  7.209011        17.666103         4.166268    Male\n",
       "1  16.500000  9.317831        17.358310         4.224620    Male\n",
       "2  15.100000  8.402447        14.627447         4.186322    Male\n",
       "3   4.848485  6.440114        12.270634         4.144954  Female\n",
       "4  19.000000  8.607769        17.977822         4.280958  Female"
      ]
     },
     "metadata": {},
     "output_type": "display_data"
    }
   ],
   "source": [
    "# Activity 3a\n",
    "# take the file \"data_to_predict\" and find out how much those donors could be worth\n",
    "# watch out: is the data in the same format as what your training data currently looks like?\n",
    "data_for_p = pd.read_csv('data_to_predict.csv')\n",
    "display(data_for_p.head())"
   ]
  },
  {
   "cell_type": "code",
   "execution_count": 47,
   "metadata": {
    "id": "fBtGfbzdESXW"
   },
   "outputs": [
    {
     "name": "stderr",
     "output_type": "stream",
     "text": [
      "C:\\Users\\User\\AppData\\Local\\Temp/ipykernel_152/4221591790.py:5: DeprecationWarning: `np.object` is a deprecated alias for the builtin `object`. To silence this warning, use `object` by itself. Doing this will not modify any behavior and is safe. \n",
      "Deprecated in NumPy 1.20; for more details and guidance: https://numpy.org/devdocs/release/1.20.0-notes.html#deprecations\n",
      "  X_for_p_cat = data_for_p.select_dtypes(include = np.object)\n"
     ]
    }
   ],
   "source": [
    "#making the new data look like the transformed one may not be the most immediate exercise...\n",
    "\n",
    "#we make the same separation into numerical and categorical\n",
    "X_for_p_num = data_for_p.select_dtypes(include = np.number)\n",
    "X_for_p_cat = data_for_p.select_dtypes(include = np.object)\n",
    "\n"
   ]
  },
  {
   "cell_type": "code",
   "execution_count": 48,
   "metadata": {
    "id": "qne_ZBL1ESXW",
    "outputId": "4f6bcc01-f5cf-4c89-f412-daffc55f6067"
   },
   "outputs": [
    {
     "data": {
      "text/html": [
       "<div>\n",
       "<style scoped>\n",
       "    .dataframe tbody tr th:only-of-type {\n",
       "        vertical-align: middle;\n",
       "    }\n",
       "\n",
       "    .dataframe tbody tr th {\n",
       "        vertical-align: top;\n",
       "    }\n",
       "\n",
       "    .dataframe thead th {\n",
       "        text-align: right;\n",
       "    }\n",
       "</style>\n",
       "<table border=\"1\" class=\"dataframe\">\n",
       "  <thead>\n",
       "    <tr style=\"text-align: right;\">\n",
       "      <th></th>\n",
       "      <th>gender</th>\n",
       "    </tr>\n",
       "  </thead>\n",
       "  <tbody>\n",
       "    <tr>\n",
       "      <th>0</th>\n",
       "      <td>Male</td>\n",
       "    </tr>\n",
       "    <tr>\n",
       "      <th>1</th>\n",
       "      <td>Male</td>\n",
       "    </tr>\n",
       "    <tr>\n",
       "      <th>2</th>\n",
       "      <td>Male</td>\n",
       "    </tr>\n",
       "    <tr>\n",
       "      <th>3</th>\n",
       "      <td>Female</td>\n",
       "    </tr>\n",
       "    <tr>\n",
       "      <th>4</th>\n",
       "      <td>Female</td>\n",
       "    </tr>\n",
       "  </tbody>\n",
       "</table>\n",
       "</div>"
      ],
      "text/plain": [
       "   gender\n",
       "0    Male\n",
       "1    Male\n",
       "2    Male\n",
       "3  Female\n",
       "4  Female"
      ]
     },
     "execution_count": 48,
     "metadata": {},
     "output_type": "execute_result"
    }
   ],
   "source": [
    "X_for_p_cat.head()"
   ]
  },
  {
   "cell_type": "code",
   "execution_count": 49,
   "metadata": {
    "id": "QX27Q36sESXX",
    "outputId": "f4ba1e18-c0bf-45e0-f8cb-9c73d4f7181c"
   },
   "outputs": [
    {
     "data": {
      "text/plain": [
       "(31, 1)"
      ]
     },
     "execution_count": 49,
     "metadata": {},
     "output_type": "execute_result"
    }
   ],
   "source": [
    "X_for_p_cat.shape"
   ]
  },
  {
   "cell_type": "code",
   "execution_count": null,
   "metadata": {
    "id": "kbMdQCJxESXY"
   },
   "outputs": [],
   "source": []
  },
  {
   "cell_type": "code",
   "execution_count": 50,
   "metadata": {
    "id": "tdyqXd_XESXY",
    "outputId": "d292037c-0cc2-49b0-dba8-037f0424d5e2"
   },
   "outputs": [
    {
     "data": {
      "text/html": [
       "<div>\n",
       "<style scoped>\n",
       "    .dataframe tbody tr th:only-of-type {\n",
       "        vertical-align: middle;\n",
       "    }\n",
       "\n",
       "    .dataframe tbody tr th {\n",
       "        vertical-align: top;\n",
       "    }\n",
       "\n",
       "    .dataframe thead tr th {\n",
       "        text-align: left;\n",
       "    }\n",
       "</style>\n",
       "<table border=\"1\" class=\"dataframe\">\n",
       "  <thead>\n",
       "    <tr>\n",
       "      <th></th>\n",
       "      <th>Male</th>\n",
       "      <th>U</th>\n",
       "    </tr>\n",
       "  </thead>\n",
       "  <tbody>\n",
       "    <tr>\n",
       "      <th>0</th>\n",
       "      <td>1.0</td>\n",
       "      <td>0.0</td>\n",
       "    </tr>\n",
       "    <tr>\n",
       "      <th>1</th>\n",
       "      <td>1.0</td>\n",
       "      <td>0.0</td>\n",
       "    </tr>\n",
       "    <tr>\n",
       "      <th>2</th>\n",
       "      <td>1.0</td>\n",
       "      <td>0.0</td>\n",
       "    </tr>\n",
       "    <tr>\n",
       "      <th>3</th>\n",
       "      <td>0.0</td>\n",
       "      <td>0.0</td>\n",
       "    </tr>\n",
       "    <tr>\n",
       "      <th>4</th>\n",
       "      <td>0.0</td>\n",
       "      <td>0.0</td>\n",
       "    </tr>\n",
       "  </tbody>\n",
       "</table>\n",
       "</div>"
      ],
      "text/plain": [
       "  Male    U\n",
       "0  1.0  0.0\n",
       "1  1.0  0.0\n",
       "2  1.0  0.0\n",
       "3  0.0  0.0\n",
       "4  0.0  0.0"
      ]
     },
     "execution_count": 50,
     "metadata": {},
     "output_type": "execute_result"
    }
   ],
   "source": [
    "# for normalization and one hot encoding we need to make sure we remain consisten with the training data:\n",
    "# If we MinMax scale just this piece of data, a \"1\" in this dataset means something very different from a 1 in the original dataset\n",
    "# If we one-hot-encode in this dataset, the order of the columns (Unknown, Male, Female) may turn out different\n",
    "#to avoid this, we use the same transformers we had already defined before, we do not fit them again.\n",
    "encoded_for_p = encoder.transform(X_for_p_cat).toarray()\n",
    "encoded_for_p\n",
    "encoder.categories_\n",
    "onehot_encoded_for_p = pd.DataFrame(encoded_for_p,columns=encoder.categories_)\n",
    "onehot_encoded_for_p = onehot_encoded_for_p.drop(['Female'],axis=1)\n",
    "onehot_encoded_for_p.head()"
   ]
  },
  {
   "cell_type": "code",
   "execution_count": 51,
   "metadata": {
    "colab": {
     "base_uri": "https://localhost:8080/",
     "height": 204
    },
    "executionInfo": {
     "elapsed": 1056,
     "status": "ok",
     "timestamp": 1616694098995,
     "user": {
      "displayName": "David Henriques",
      "photoUrl": "",
      "userId": "14332050621134291491"
     },
     "user_tz": 0
    },
    "id": "Q4dA1zZuSy6f",
    "outputId": "e56d2119-6c5f-45c6-96ab-c58142349907"
   },
   "outputs": [
    {
     "data": {
      "text/html": [
       "<div>\n",
       "<style scoped>\n",
       "    .dataframe tbody tr th:only-of-type {\n",
       "        vertical-align: middle;\n",
       "    }\n",
       "\n",
       "    .dataframe tbody tr th {\n",
       "        vertical-align: top;\n",
       "    }\n",
       "\n",
       "    .dataframe thead th {\n",
       "        text-align: right;\n",
       "    }\n",
       "</style>\n",
       "<table border=\"1\" class=\"dataframe\">\n",
       "  <thead>\n",
       "    <tr style=\"text-align: right;\">\n",
       "      <th></th>\n",
       "      <th>AVGGIFT</th>\n",
       "      <th>HV1_log</th>\n",
       "      <th>IC1_transformed</th>\n",
       "      <th>IC5_transformed</th>\n",
       "      <th>(Male,)</th>\n",
       "      <th>(U,)</th>\n",
       "    </tr>\n",
       "  </thead>\n",
       "  <tbody>\n",
       "    <tr>\n",
       "      <th>0</th>\n",
       "      <td>0.014413</td>\n",
       "      <td>0.105658</td>\n",
       "      <td>0.755274</td>\n",
       "      <td>0.516885</td>\n",
       "      <td>1.0</td>\n",
       "      <td>0.0</td>\n",
       "    </tr>\n",
       "    <tr>\n",
       "      <th>1</th>\n",
       "      <td>0.031802</td>\n",
       "      <td>0.215326</td>\n",
       "      <td>0.731929</td>\n",
       "      <td>0.636063</td>\n",
       "      <td>1.0</td>\n",
       "      <td>0.0</td>\n",
       "    </tr>\n",
       "    <tr>\n",
       "      <th>2</th>\n",
       "      <td>0.028675</td>\n",
       "      <td>0.167722</td>\n",
       "      <td>0.524809</td>\n",
       "      <td>0.557843</td>\n",
       "      <td>1.0</td>\n",
       "      <td>0.0</td>\n",
       "    </tr>\n",
       "    <tr>\n",
       "      <th>3</th>\n",
       "      <td>0.005779</td>\n",
       "      <td>0.065672</td>\n",
       "      <td>0.346058</td>\n",
       "      <td>0.473354</td>\n",
       "      <td>0.0</td>\n",
       "      <td>0.0</td>\n",
       "    </tr>\n",
       "    <tr>\n",
       "      <th>4</th>\n",
       "      <td>0.037386</td>\n",
       "      <td>0.178399</td>\n",
       "      <td>0.778916</td>\n",
       "      <td>0.751127</td>\n",
       "      <td>0.0</td>\n",
       "      <td>0.0</td>\n",
       "    </tr>\n",
       "  </tbody>\n",
       "</table>\n",
       "</div>"
      ],
      "text/plain": [
       "    AVGGIFT   HV1_log  IC1_transformed  IC5_transformed  (Male,)  (U,)\n",
       "0  0.014413  0.105658         0.755274         0.516885      1.0   0.0\n",
       "1  0.031802  0.215326         0.731929         0.636063      1.0   0.0\n",
       "2  0.028675  0.167722         0.524809         0.557843      1.0   0.0\n",
       "3  0.005779  0.065672         0.346058         0.473354      0.0   0.0\n",
       "4  0.037386  0.178399         0.778916         0.751127      0.0   0.0"
      ]
     },
     "execution_count": 51,
     "metadata": {},
     "output_type": "execute_result"
    }
   ],
   "source": [
    "X_for_p_normalized = MinMaxtransformer.transform(X_for_p_num)\n",
    "X_for_p_normalized = pd.DataFrame(X_for_p_normalized,columns=X_for_p_num.columns)\n",
    "\n",
    "#merge back all of our labels\n",
    "X_for_p = pd.concat([X_for_p_normalized, onehot_encoded_for_p], axis=1)\n",
    "\n",
    "X_for_p.head()"
   ]
  },
  {
   "cell_type": "code",
   "execution_count": 52,
   "metadata": {
    "id": "3KLYE7BtESXZ",
    "outputId": "aad22bc1-a5c5-4105-8857-4849f4f31d37"
   },
   "outputs": [
    {
     "ename": "ValueError",
     "evalue": "matmul: Input operand 1 has a mismatch in its core dimension 0, with gufunc signature (n?,k),(k,m?)->(n?,m?) (size 7 is different from 6)",
     "output_type": "error",
     "traceback": [
      "\u001b[1;31m---------------------------------------------------------------------------\u001b[0m",
      "\u001b[1;31mValueError\u001b[0m                                Traceback (most recent call last)",
      "\u001b[1;32m~\\AppData\\Local\\Temp/ipykernel_152/2564762609.py\u001b[0m in \u001b[0;36m<module>\u001b[1;34m\u001b[0m\n\u001b[0;32m      1\u001b[0m \u001b[1;31m#predict and inspect results\u001b[0m\u001b[1;33m\u001b[0m\u001b[1;33m\u001b[0m\u001b[0m\n\u001b[1;32m----> 2\u001b[1;33m \u001b[0mresults_for_p\u001b[0m \u001b[1;33m=\u001b[0m \u001b[0mlm\u001b[0m\u001b[1;33m.\u001b[0m\u001b[0mpredict\u001b[0m\u001b[1;33m(\u001b[0m\u001b[0mX_for_p\u001b[0m\u001b[1;33m)\u001b[0m\u001b[1;33m\u001b[0m\u001b[1;33m\u001b[0m\u001b[0m\n\u001b[0m\u001b[0;32m      3\u001b[0m \u001b[1;33m\u001b[0m\u001b[0m\n\u001b[0;32m      4\u001b[0m \u001b[0mpd\u001b[0m\u001b[1;33m.\u001b[0m\u001b[0mconcat\u001b[0m\u001b[1;33m(\u001b[0m\u001b[1;33m[\u001b[0m\u001b[0mdata_for_p\u001b[0m\u001b[1;33m,\u001b[0m\u001b[0mpd\u001b[0m\u001b[1;33m.\u001b[0m\u001b[0mSeries\u001b[0m\u001b[1;33m(\u001b[0m\u001b[0mresults_for_p\u001b[0m\u001b[1;33m)\u001b[0m\u001b[1;33m]\u001b[0m\u001b[1;33m,\u001b[0m\u001b[0maxis\u001b[0m\u001b[1;33m=\u001b[0m\u001b[1;36m1\u001b[0m\u001b[1;33m)\u001b[0m\u001b[1;33m.\u001b[0m\u001b[0mhead\u001b[0m\u001b[1;33m(\u001b[0m\u001b[1;33m)\u001b[0m\u001b[1;33m\u001b[0m\u001b[1;33m\u001b[0m\u001b[0m\n",
      "\u001b[1;32m~\\anaconda3\\lib\\site-packages\\sklearn\\linear_model\\_base.py\u001b[0m in \u001b[0;36mpredict\u001b[1;34m(self, X)\u001b[0m\n\u001b[0;32m    236\u001b[0m             \u001b[0mReturns\u001b[0m \u001b[0mpredicted\u001b[0m \u001b[0mvalues\u001b[0m\u001b[1;33m.\u001b[0m\u001b[1;33m\u001b[0m\u001b[1;33m\u001b[0m\u001b[0m\n\u001b[0;32m    237\u001b[0m         \"\"\"\n\u001b[1;32m--> 238\u001b[1;33m         \u001b[1;32mreturn\u001b[0m \u001b[0mself\u001b[0m\u001b[1;33m.\u001b[0m\u001b[0m_decision_function\u001b[0m\u001b[1;33m(\u001b[0m\u001b[0mX\u001b[0m\u001b[1;33m)\u001b[0m\u001b[1;33m\u001b[0m\u001b[1;33m\u001b[0m\u001b[0m\n\u001b[0m\u001b[0;32m    239\u001b[0m \u001b[1;33m\u001b[0m\u001b[0m\n\u001b[0;32m    240\u001b[0m     \u001b[0m_preprocess_data\u001b[0m \u001b[1;33m=\u001b[0m \u001b[0mstaticmethod\u001b[0m\u001b[1;33m(\u001b[0m\u001b[0m_preprocess_data\u001b[0m\u001b[1;33m)\u001b[0m\u001b[1;33m\u001b[0m\u001b[1;33m\u001b[0m\u001b[0m\n",
      "\u001b[1;32m~\\anaconda3\\lib\\site-packages\\sklearn\\linear_model\\_base.py\u001b[0m in \u001b[0;36m_decision_function\u001b[1;34m(self, X)\u001b[0m\n\u001b[0;32m    219\u001b[0m \u001b[1;33m\u001b[0m\u001b[0m\n\u001b[0;32m    220\u001b[0m         \u001b[0mX\u001b[0m \u001b[1;33m=\u001b[0m \u001b[0mcheck_array\u001b[0m\u001b[1;33m(\u001b[0m\u001b[0mX\u001b[0m\u001b[1;33m,\u001b[0m \u001b[0maccept_sparse\u001b[0m\u001b[1;33m=\u001b[0m\u001b[1;33m[\u001b[0m\u001b[1;34m'csr'\u001b[0m\u001b[1;33m,\u001b[0m \u001b[1;34m'csc'\u001b[0m\u001b[1;33m,\u001b[0m \u001b[1;34m'coo'\u001b[0m\u001b[1;33m]\u001b[0m\u001b[1;33m)\u001b[0m\u001b[1;33m\u001b[0m\u001b[1;33m\u001b[0m\u001b[0m\n\u001b[1;32m--> 221\u001b[1;33m         return safe_sparse_dot(X, self.coef_.T,\n\u001b[0m\u001b[0;32m    222\u001b[0m                                dense_output=True) + self.intercept_\n\u001b[0;32m    223\u001b[0m \u001b[1;33m\u001b[0m\u001b[0m\n",
      "\u001b[1;32m~\\anaconda3\\lib\\site-packages\\sklearn\\utils\\validation.py\u001b[0m in \u001b[0;36minner_f\u001b[1;34m(*args, **kwargs)\u001b[0m\n\u001b[0;32m     61\u001b[0m             \u001b[0mextra_args\u001b[0m \u001b[1;33m=\u001b[0m \u001b[0mlen\u001b[0m\u001b[1;33m(\u001b[0m\u001b[0margs\u001b[0m\u001b[1;33m)\u001b[0m \u001b[1;33m-\u001b[0m \u001b[0mlen\u001b[0m\u001b[1;33m(\u001b[0m\u001b[0mall_args\u001b[0m\u001b[1;33m)\u001b[0m\u001b[1;33m\u001b[0m\u001b[1;33m\u001b[0m\u001b[0m\n\u001b[0;32m     62\u001b[0m             \u001b[1;32mif\u001b[0m \u001b[0mextra_args\u001b[0m \u001b[1;33m<=\u001b[0m \u001b[1;36m0\u001b[0m\u001b[1;33m:\u001b[0m\u001b[1;33m\u001b[0m\u001b[1;33m\u001b[0m\u001b[0m\n\u001b[1;32m---> 63\u001b[1;33m                 \u001b[1;32mreturn\u001b[0m \u001b[0mf\u001b[0m\u001b[1;33m(\u001b[0m\u001b[1;33m*\u001b[0m\u001b[0margs\u001b[0m\u001b[1;33m,\u001b[0m \u001b[1;33m**\u001b[0m\u001b[0mkwargs\u001b[0m\u001b[1;33m)\u001b[0m\u001b[1;33m\u001b[0m\u001b[1;33m\u001b[0m\u001b[0m\n\u001b[0m\u001b[0;32m     64\u001b[0m \u001b[1;33m\u001b[0m\u001b[0m\n\u001b[0;32m     65\u001b[0m             \u001b[1;31m# extra_args > 0\u001b[0m\u001b[1;33m\u001b[0m\u001b[1;33m\u001b[0m\u001b[0m\n",
      "\u001b[1;32m~\\anaconda3\\lib\\site-packages\\sklearn\\utils\\extmath.py\u001b[0m in \u001b[0;36msafe_sparse_dot\u001b[1;34m(a, b, dense_output)\u001b[0m\n\u001b[0;32m    150\u001b[0m             \u001b[0mret\u001b[0m \u001b[1;33m=\u001b[0m \u001b[0mnp\u001b[0m\u001b[1;33m.\u001b[0m\u001b[0mdot\u001b[0m\u001b[1;33m(\u001b[0m\u001b[0ma\u001b[0m\u001b[1;33m,\u001b[0m \u001b[0mb\u001b[0m\u001b[1;33m)\u001b[0m\u001b[1;33m\u001b[0m\u001b[1;33m\u001b[0m\u001b[0m\n\u001b[0;32m    151\u001b[0m     \u001b[1;32melse\u001b[0m\u001b[1;33m:\u001b[0m\u001b[1;33m\u001b[0m\u001b[1;33m\u001b[0m\u001b[0m\n\u001b[1;32m--> 152\u001b[1;33m         \u001b[0mret\u001b[0m \u001b[1;33m=\u001b[0m \u001b[0ma\u001b[0m \u001b[1;33m@\u001b[0m \u001b[0mb\u001b[0m\u001b[1;33m\u001b[0m\u001b[1;33m\u001b[0m\u001b[0m\n\u001b[0m\u001b[0;32m    153\u001b[0m \u001b[1;33m\u001b[0m\u001b[0m\n\u001b[0;32m    154\u001b[0m     if (sparse.issparse(a) and sparse.issparse(b)\n",
      "\u001b[1;31mValueError\u001b[0m: matmul: Input operand 1 has a mismatch in its core dimension 0, with gufunc signature (n?,k),(k,m?)->(n?,m?) (size 7 is different from 6)"
     ]
    }
   ],
   "source": [
    "#predict and inspect results\n",
    "results_for_p = lm.predict(X_for_p)\n",
    "\n",
    "pd.concat([data_for_p,pd.Series(results_for_p)],axis=1).head()"
   ]
  },
  {
   "cell_type": "markdown",
   "metadata": {
    "id": "6WdVfIPQysBX"
   },
   "source": [
    "# Lesson 3 : metrics"
   ]
  },
  {
   "cell_type": "code",
   "execution_count": 57,
   "metadata": {
    "id": "wzDxlpmsGBjN"
   },
   "outputs": [],
   "source": [
    "from sklearn.metrics import mean_absolute_error, r2_score"
   ]
  },
  {
   "cell_type": "code",
   "execution_count": 58,
   "metadata": {
    "colab": {
     "base_uri": "https://localhost:8080/"
    },
    "executionInfo": {
     "elapsed": 2820,
     "status": "ok",
     "timestamp": 1616694110436,
     "user": {
      "displayName": "David Henriques",
      "photoUrl": "",
      "userId": "14332050621134291491"
     },
     "user_tz": 0
    },
    "id": "_8eLewSDysBY",
    "outputId": "d809b332-6ab4-4bff-8a78-a0eab5dab397"
   },
   "outputs": [
    {
     "name": "stdout",
     "output_type": "stream",
     "text": [
      "3.4349568786234137\n"
     ]
    }
   ],
   "source": [
    "mae = mean_absolute_error(y_test, predictions)\n",
    "print(mae)"
   ]
  },
  {
   "cell_type": "code",
   "execution_count": 59,
   "metadata": {
    "colab": {
     "base_uri": "https://localhost:8080/"
    },
    "executionInfo": {
     "elapsed": 1251,
     "status": "ok",
     "timestamp": 1616694113675,
     "user": {
      "displayName": "David Henriques",
      "photoUrl": "",
      "userId": "14332050621134291491"
     },
     "user_tz": 0
    },
    "id": "CJGNR5hoysBY",
    "outputId": "4297b53f-202e-4e92-cf99-bed078cc6448"
   },
   "outputs": [
    {
     "ename": "NameError",
     "evalue": "name 'mse' is not defined",
     "output_type": "error",
     "traceback": [
      "\u001b[1;31m---------------------------------------------------------------------------\u001b[0m",
      "\u001b[1;31mNameError\u001b[0m                                 Traceback (most recent call last)",
      "\u001b[1;32m~\\AppData\\Local\\Temp/ipykernel_152/914284287.py\u001b[0m in \u001b[0;36m<module>\u001b[1;34m\u001b[0m\n\u001b[1;32m----> 1\u001b[1;33m \u001b[0mrmse\u001b[0m \u001b[1;33m=\u001b[0m \u001b[0mmath\u001b[0m\u001b[1;33m.\u001b[0m\u001b[0msqrt\u001b[0m\u001b[1;33m(\u001b[0m\u001b[0mmse\u001b[0m\u001b[1;33m)\u001b[0m\u001b[1;33m\u001b[0m\u001b[1;33m\u001b[0m\u001b[0m\n\u001b[0m\u001b[0;32m      2\u001b[0m \u001b[0mprint\u001b[0m\u001b[1;33m(\u001b[0m\u001b[0mrsae\u001b[0m\u001b[1;33m)\u001b[0m\u001b[1;33m\u001b[0m\u001b[1;33m\u001b[0m\u001b[0m\n",
      "\u001b[1;31mNameError\u001b[0m: name 'mse' is not defined"
     ]
    }
   ],
   "source": [
    "rmse = math.sqrt(mse)\n",
    "print(rsae)"
   ]
  },
  {
   "cell_type": "code",
   "execution_count": 60,
   "metadata": {
    "colab": {
     "base_uri": "https://localhost:8080/"
    },
    "executionInfo": {
     "elapsed": 744,
     "status": "ok",
     "timestamp": 1616694114978,
     "user": {
      "displayName": "David Henriques",
      "photoUrl": "",
      "userId": "14332050621134291491"
     },
     "user_tz": 0
    },
    "id": "bWGAZW5lysBZ",
    "outputId": "451dfd98-9766-4dcf-918a-5fd8d5554095"
   },
   "outputs": [
    {
     "data": {
      "text/plain": [
       "0.7835732034742455"
      ]
     },
     "execution_count": 60,
     "metadata": {},
     "output_type": "execute_result"
    }
   ],
   "source": [
    "r2 = r2_score(y_test, predictions)\n",
    "r2"
   ]
  },
  {
   "cell_type": "code",
   "execution_count": 64,
   "metadata": {
    "id": "nYu0VrO5MNEv"
   },
   "outputs": [],
   "source": [
    "\n",
    "df = pd.DataFrame([['a','c'],['b','d'],['a','e']],columns=['col1','col2'])"
   ]
  },
  {
   "cell_type": "code",
   "execution_count": 65,
   "metadata": {
    "id": "YmU2OePcESXb"
   },
   "outputs": [
    {
     "data": {
      "text/html": [
       "<div>\n",
       "<style scoped>\n",
       "    .dataframe tbody tr th:only-of-type {\n",
       "        vertical-align: middle;\n",
       "    }\n",
       "\n",
       "    .dataframe tbody tr th {\n",
       "        vertical-align: top;\n",
       "    }\n",
       "\n",
       "    .dataframe thead th {\n",
       "        text-align: right;\n",
       "    }\n",
       "</style>\n",
       "<table border=\"1\" class=\"dataframe\">\n",
       "  <thead>\n",
       "    <tr style=\"text-align: right;\">\n",
       "      <th></th>\n",
       "      <th>col1</th>\n",
       "      <th>col2</th>\n",
       "    </tr>\n",
       "  </thead>\n",
       "  <tbody>\n",
       "    <tr>\n",
       "      <th>0</th>\n",
       "      <td>a</td>\n",
       "      <td>c</td>\n",
       "    </tr>\n",
       "    <tr>\n",
       "      <th>1</th>\n",
       "      <td>b</td>\n",
       "      <td>d</td>\n",
       "    </tr>\n",
       "    <tr>\n",
       "      <th>2</th>\n",
       "      <td>a</td>\n",
       "      <td>e</td>\n",
       "    </tr>\n",
       "  </tbody>\n",
       "</table>\n",
       "</div>"
      ],
      "text/plain": [
       "  col1 col2\n",
       "0    a    c\n",
       "1    b    d\n",
       "2    a    e"
      ]
     },
     "execution_count": 65,
     "metadata": {},
     "output_type": "execute_result"
    }
   ],
   "source": [
    "df"
   ]
  },
  {
   "cell_type": "code",
   "execution_count": 66,
   "metadata": {
    "id": "OALB9MI-ESXc",
    "outputId": "471eca5e-47fa-4a77-8557-a245c72aab0c"
   },
   "outputs": [
    {
     "data": {
      "text/html": [
       "<div>\n",
       "<style scoped>\n",
       "    .dataframe tbody tr th:only-of-type {\n",
       "        vertical-align: middle;\n",
       "    }\n",
       "\n",
       "    .dataframe tbody tr th {\n",
       "        vertical-align: top;\n",
       "    }\n",
       "\n",
       "    .dataframe thead tr th {\n",
       "        text-align: left;\n",
       "    }\n",
       "</style>\n",
       "<table border=\"1\" class=\"dataframe\">\n",
       "  <thead>\n",
       "    <tr>\n",
       "      <th></th>\n",
       "      <th>d</th>\n",
       "      <th>e</th>\n",
       "    </tr>\n",
       "  </thead>\n",
       "  <tbody>\n",
       "    <tr>\n",
       "      <th>0</th>\n",
       "      <td>0.0</td>\n",
       "      <td>0.0</td>\n",
       "    </tr>\n",
       "    <tr>\n",
       "      <th>1</th>\n",
       "      <td>1.0</td>\n",
       "      <td>0.0</td>\n",
       "    </tr>\n",
       "    <tr>\n",
       "      <th>2</th>\n",
       "      <td>0.0</td>\n",
       "      <td>1.0</td>\n",
       "    </tr>\n",
       "  </tbody>\n",
       "</table>\n",
       "</div>"
      ],
      "text/plain": [
       "     d    e\n",
       "0  0.0  0.0\n",
       "1  1.0  0.0\n",
       "2  0.0  1.0"
      ]
     },
     "execution_count": 66,
     "metadata": {},
     "output_type": "execute_result"
    }
   ],
   "source": [
    "encoder = OneHotEncoder().fit(df[['col2']])\n",
    "encoded_for_p = encoder.transform(df[['col2']]).toarray()\n",
    "encoded_for_p\n",
    "encoder.categories_\n",
    "# cols = [colname for row in encoder.categories_ for colname in row]\n",
    "# cols\n",
    "onehot_encoded_for_p = pd.DataFrame(encoded_for_p,columns=encoder.categories_)\n",
    "onehot_encoded_for_p = onehot_encoded_for_p.drop(['c'],axis=1)\n",
    "onehot_encoded_for_p.head()"
   ]
  },
  {
   "cell_type": "code",
   "execution_count": null,
   "metadata": {
    "id": "4LBM2bsNESXc"
   },
   "outputs": [],
   "source": []
  },
  {
   "cell_type": "code",
   "execution_count": null,
   "metadata": {},
   "outputs": [],
   "source": []
  }
 ],
 "metadata": {
  "colab": {
   "collapsed_sections": [],
   "name": "L. 1.08.ipynb",
   "provenance": []
  },
  "kernelspec": {
   "display_name": "Python 3 (ipykernel)",
   "language": "python",
   "name": "python3"
  },
  "language_info": {
   "codemirror_mode": {
    "name": "ipython",
    "version": 3
   },
   "file_extension": ".py",
   "mimetype": "text/x-python",
   "name": "python",
   "nbconvert_exporter": "python",
   "pygments_lexer": "ipython3",
   "version": "3.9.7"
  },
  "toc": {
   "base_numbering": 1,
   "nav_menu": {},
   "number_sections": true,
   "sideBar": true,
   "skip_h1_title": false,
   "title_cell": "Table of Contents",
   "title_sidebar": "Contents",
   "toc_cell": false,
   "toc_position": {},
   "toc_section_display": true,
   "toc_window_display": false
  },
  "varInspector": {
   "cols": {
    "lenName": 16,
    "lenType": 16,
    "lenVar": 40
   },
   "kernels_config": {
    "python": {
     "delete_cmd_postfix": "",
     "delete_cmd_prefix": "del ",
     "library": "var_list.py",
     "varRefreshCmd": "print(var_dic_list())"
    },
    "r": {
     "delete_cmd_postfix": ") ",
     "delete_cmd_prefix": "rm(",
     "library": "var_list.r",
     "varRefreshCmd": "cat(var_dic_list()) "
    }
   },
   "types_to_exclude": [
    "module",
    "function",
    "builtin_function_or_method",
    "instance",
    "_Feature"
   ],
   "window_display": false
  }
 },
 "nbformat": 4,
 "nbformat_minor": 1
}
